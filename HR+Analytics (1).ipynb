{
 "cells": [
  {
   "cell_type": "code",
   "execution_count": 281,
   "metadata": {
    "collapsed": true
   },
   "outputs": [],
   "source": [
    "# load the necessary libraries\n",
    "import numpy as np\n",
    "import pandas as pd\n",
    "import matplotlib.pyplot as plt\n",
    "import seaborn as sns\n",
    "from sklearn.linear_model import LogisticRegression\n",
    "from sklearn.model_selection import train_test_split\n",
    "import  statsmodels.formula.api as smf\n",
    "from statsmodels.stats.outliers_influence import variance_inflation_factor\n",
    "%matplotlib inline"
   ]
  },
  {
   "cell_type": "code",
   "execution_count": 189,
   "metadata": {
    "collapsed": true
   },
   "outputs": [],
   "source": [
    "#Load the dataset\n",
    "data =  pd.read_csv(\"D:/Log Reg/HR Analytics/HR.csv\")"
   ]
  },
  {
   "cell_type": "code",
   "execution_count": 190,
   "metadata": {
    "collapsed": false
   },
   "outputs": [
    {
     "data": {
      "text/html": [
       "<div>\n",
       "<table border=\"1\" class=\"dataframe\">\n",
       "  <thead>\n",
       "    <tr style=\"text-align: right;\">\n",
       "      <th></th>\n",
       "      <th>satisfaction_level</th>\n",
       "      <th>last_evaluation</th>\n",
       "      <th>number_project</th>\n",
       "      <th>average_montly_hours</th>\n",
       "      <th>time_spend_company</th>\n",
       "      <th>Work_accident</th>\n",
       "      <th>left</th>\n",
       "      <th>promotion_last_5years</th>\n",
       "      <th>sales</th>\n",
       "      <th>salary</th>\n",
       "    </tr>\n",
       "  </thead>\n",
       "  <tbody>\n",
       "    <tr>\n",
       "      <th>0</th>\n",
       "      <td>0.38</td>\n",
       "      <td>0.53</td>\n",
       "      <td>2</td>\n",
       "      <td>157</td>\n",
       "      <td>3</td>\n",
       "      <td>0</td>\n",
       "      <td>1</td>\n",
       "      <td>0</td>\n",
       "      <td>sales</td>\n",
       "      <td>low</td>\n",
       "    </tr>\n",
       "    <tr>\n",
       "      <th>1</th>\n",
       "      <td>0.80</td>\n",
       "      <td>0.86</td>\n",
       "      <td>5</td>\n",
       "      <td>262</td>\n",
       "      <td>6</td>\n",
       "      <td>0</td>\n",
       "      <td>1</td>\n",
       "      <td>0</td>\n",
       "      <td>sales</td>\n",
       "      <td>medium</td>\n",
       "    </tr>\n",
       "    <tr>\n",
       "      <th>2</th>\n",
       "      <td>0.11</td>\n",
       "      <td>0.88</td>\n",
       "      <td>7</td>\n",
       "      <td>272</td>\n",
       "      <td>4</td>\n",
       "      <td>0</td>\n",
       "      <td>1</td>\n",
       "      <td>0</td>\n",
       "      <td>sales</td>\n",
       "      <td>medium</td>\n",
       "    </tr>\n",
       "    <tr>\n",
       "      <th>3</th>\n",
       "      <td>0.72</td>\n",
       "      <td>0.87</td>\n",
       "      <td>5</td>\n",
       "      <td>223</td>\n",
       "      <td>5</td>\n",
       "      <td>0</td>\n",
       "      <td>1</td>\n",
       "      <td>0</td>\n",
       "      <td>sales</td>\n",
       "      <td>low</td>\n",
       "    </tr>\n",
       "    <tr>\n",
       "      <th>4</th>\n",
       "      <td>0.37</td>\n",
       "      <td>0.52</td>\n",
       "      <td>2</td>\n",
       "      <td>159</td>\n",
       "      <td>3</td>\n",
       "      <td>0</td>\n",
       "      <td>1</td>\n",
       "      <td>0</td>\n",
       "      <td>sales</td>\n",
       "      <td>low</td>\n",
       "    </tr>\n",
       "  </tbody>\n",
       "</table>\n",
       "</div>"
      ],
      "text/plain": [
       "   satisfaction_level  last_evaluation  number_project  average_montly_hours  \\\n",
       "0                0.38             0.53               2                   157   \n",
       "1                0.80             0.86               5                   262   \n",
       "2                0.11             0.88               7                   272   \n",
       "3                0.72             0.87               5                   223   \n",
       "4                0.37             0.52               2                   159   \n",
       "\n",
       "   time_spend_company  Work_accident  left  promotion_last_5years  sales  \\\n",
       "0                   3              0     1                      0  sales   \n",
       "1                   6              0     1                      0  sales   \n",
       "2                   4              0     1                      0  sales   \n",
       "3                   5              0     1                      0  sales   \n",
       "4                   3              0     1                      0  sales   \n",
       "\n",
       "   salary  \n",
       "0     low  \n",
       "1  medium  \n",
       "2  medium  \n",
       "3     low  \n",
       "4     low  "
      ]
     },
     "execution_count": 190,
     "metadata": {},
     "output_type": "execute_result"
    }
   ],
   "source": [
    "# look at the data\n",
    "data.head(5)"
   ]
  },
  {
   "cell_type": "code",
   "execution_count": 191,
   "metadata": {
    "collapsed": true
   },
   "outputs": [],
   "source": [
    "# We have 10 colums here\n",
    "#Left is our response variable. Let's take it out\n",
    "Y = data.left\n",
    "data.drop(\"left\",axis=1,inplace=True)"
   ]
  },
  {
   "cell_type": "code",
   "execution_count": 192,
   "metadata": {
    "collapsed": false
   },
   "outputs": [
    {
     "data": {
      "text/plain": [
       "satisfaction_level       float64\n",
       "last_evaluation          float64\n",
       "number_project             int64\n",
       "average_montly_hours       int64\n",
       "time_spend_company         int64\n",
       "Work_accident              int64\n",
       "promotion_last_5years      int64\n",
       "sales                     object\n",
       "salary                    object\n",
       "dtype: object"
      ]
     },
     "execution_count": 192,
     "metadata": {},
     "output_type": "execute_result"
    }
   ],
   "source": [
    "data.dtypes"
   ]
  },
  {
   "cell_type": "code",
   "execution_count": 193,
   "metadata": {
    "collapsed": true
   },
   "outputs": [],
   "source": [
    "#Let's make list of categorical and continuous vars\n",
    "contVar =[\"satisfaction_level\",\"last_evaluation\",\"average_montly_hours\"]\n",
    "catVar =[\"number_project\",\"time_spend_company\",\"Work_accident\",\"promotion_last_5years\",\"sales\",\"salary\"]\n",
    "# this comes in handy when we would like to do grouped operations e.g. filling missing values , creating a dataframe of one type\n",
    "# of columns etc. we will use these ahead if need be."
   ]
  },
  {
   "cell_type": "code",
   "execution_count": 194,
   "metadata": {
    "collapsed": false
   },
   "outputs": [
    {
     "data": {
      "text/plain": [
       "satisfaction_level       0\n",
       "last_evaluation          0\n",
       "number_project           0\n",
       "average_montly_hours     0\n",
       "time_spend_company       0\n",
       "Work_accident            0\n",
       "promotion_last_5years    0\n",
       "sales                    0\n",
       "salary                   0\n",
       "dtype: int64"
      ]
     },
     "execution_count": 194,
     "metadata": {},
     "output_type": "execute_result"
    }
   ],
   "source": [
    "# check for missing values\n",
    "data.isnull().sum()"
   ]
  },
  {
   "cell_type": "code",
   "execution_count": 9,
   "metadata": {
    "collapsed": false
   },
   "outputs": [
    {
     "data": {
      "text/html": [
       "<div>\n",
       "<table border=\"1\" class=\"dataframe\">\n",
       "  <thead>\n",
       "    <tr style=\"text-align: right;\">\n",
       "      <th>col_0</th>\n",
       "      <th>Count</th>\n",
       "    </tr>\n",
       "    <tr>\n",
       "      <th>left</th>\n",
       "      <th></th>\n",
       "    </tr>\n",
       "  </thead>\n",
       "  <tbody>\n",
       "    <tr>\n",
       "      <th>0</th>\n",
       "      <td>0.761917</td>\n",
       "    </tr>\n",
       "    <tr>\n",
       "      <th>1</th>\n",
       "      <td>0.238083</td>\n",
       "    </tr>\n",
       "  </tbody>\n",
       "</table>\n",
       "</div>"
      ],
      "text/plain": [
       "col_0     Count\n",
       "left           \n",
       "0      0.761917\n",
       "1      0.238083"
      ]
     },
     "execution_count": 9,
     "metadata": {},
     "output_type": "execute_result"
    }
   ],
   "source": [
    "#no missing values !!! allrighty..\n",
    "# let's take a look of our output variable to check if we have a balanced distribution or not.\n",
    "# we will use frequency table since our variable is categorical.\n",
    "pd.crosstab(index=Y,columns=\"Count\").apply(lambda l:l/len(Y),axis=1)"
   ]
  },
  {
   "cell_type": "code",
   "execution_count": 10,
   "metadata": {
    "collapsed": false
   },
   "outputs": [
    {
     "data": {
      "text/plain": [
       "<matplotlib.text.Text at 0x1600ae817f0>"
      ]
     },
     "execution_count": 10,
     "metadata": {},
     "output_type": "execute_result"
    },
    {
     "data": {
      "image/png": "[encoded data removed]",
      "text/plain": [
       "<matplotlib.figure.Figure at 0x16075d6c748>"
      ]
     },
     "metadata": {},
     "output_type": "display_data"
    }
   ],
   "source": [
    "# we have a 1:3  ratio here. let's procced further. If we couldn't make good progress , we will look for advance sampling techniques\n",
    "# such as over/under - sampling.\n",
    "import matplotlib as mpl\n",
    "mpl.style.use([\"ggplot\"])\n",
    "pd.crosstab(index=Y,columns=\"Count\").plot(kind=\"bar\")\n",
    "plt.title(\"Stayed Vs Left\")"
   ]
  },
  {
   "cell_type": "code",
   "execution_count": 11,
   "metadata": {
    "collapsed": false
   },
   "outputs": [
    {
     "data": {
      "text/plain": [
       "count    14999.000000\n",
       "mean         0.612834\n",
       "std          0.248631\n",
       "min          0.090000\n",
       "25%          0.440000\n",
       "50%          0.640000\n",
       "75%          0.820000\n",
       "max          1.000000\n",
       "Name: satisfaction_level, dtype: float64"
      ]
     },
     "execution_count": 11,
     "metadata": {},
     "output_type": "execute_result"
    }
   ],
   "source": [
    "#Let's do data exploration to understand  how each individual ariable is behaving\n",
    "# Starting with satisfaction_level       \n",
    "# Initial observation - cont var having values between 0-1\n",
    "data.satisfaction_level.describe()"
   ]
  },
  {
   "cell_type": "code",
   "execution_count": 12,
   "metadata": {
    "collapsed": false
   },
   "outputs": [
    {
     "data": {
      "text/plain": [
       "<matplotlib.axes._subplots.AxesSubplot at 0x16008e1f898>"
      ]
     },
     "execution_count": 12,
     "metadata": {},
     "output_type": "execute_result"
    },
    {
     "data": {
      "image/png": "[encoded data removed]",
      "text/plain": [
       "<matplotlib.figure.Figure at 0x1600ae8d320>"
      ]
     },
     "metadata": {},
     "output_type": "display_data"
    }
   ],
   "source": [
    "# A good thing to note is on average people are satisfied  with an everage value of 61 %. mean is also near median so I expect a\n",
    "# somewhat normal distributed shape with a little left skeweness.\n",
    "# draw a density plot and histogram\n",
    "sns.distplot(data.satisfaction_level)"
   ]
  },
  {
   "cell_type": "code",
   "execution_count": 13,
   "metadata": {
    "collapsed": false
   },
   "outputs": [
    {
     "data": {
      "text/plain": [
       "<matplotlib.axes._subplots.AxesSubplot at 0x1600aff77f0>"
      ]
     },
     "execution_count": 13,
     "metadata": {},
     "output_type": "execute_result"
    },
    {
     "data": {
      "image/png": "[encoded data removed]",
      "text/plain": [
       "<matplotlib.figure.Figure at 0x1600af32b38>"
      ]
     },
     "metadata": {},
     "output_type": "display_data"
    }
   ],
   "source": [
    "#look at the peak near 0.1, Looks like whosoever is dissatisfied, really not gonna listen to logic :)\n",
    "# Let's try to do a reflected log transformation to tackle skewness\n",
    "sns.distplot(np.log(max(data.satisfaction_level)+1-data.satisfaction_level))"
   ]
  },
  {
   "cell_type": "code",
   "execution_count": 14,
   "metadata": {
    "collapsed": false
   },
   "outputs": [
    {
     "data": {
      "image/png": "[encoded data removed]",
      "text/plain": [
       "<matplotlib.figure.Figure at 0x1600afe4c18>"
      ]
     },
     "metadata": {},
     "output_type": "display_data"
    }
   ],
   "source": [
    "data[\"satisfaction_level\"].plot(kind=\"hist\")\n",
    "plt.xlabel(\"satisfaction_level\")\n",
    "plt.ylabel(\"Number of Employees\")\n",
    "plt.title(\"Satisfaction levels across employees\")\n",
    "plt.show()\n"
   ]
  },
  {
   "cell_type": "code",
   "execution_count": 15,
   "metadata": {
    "collapsed": false
   },
   "outputs": [
    {
     "data": {
      "text/plain": [
       "<matplotlib.axes._subplots.AxesSubplot at 0x1600b0f60f0>"
      ]
     },
     "execution_count": 15,
     "metadata": {},
     "output_type": "execute_result"
    },
    {
     "data": {
      "image/png": "[encoded data removed]",
      "text/plain": [
       "<matplotlib.figure.Figure at 0x1600c26c358>"
      ]
     },
     "metadata": {},
     "output_type": "display_data"
    }
   ],
   "source": [
    "# do we have any outliers here (unusual values low or high)\n",
    "data.satisfaction_level.plot(kind=\"box\",figsize=(6,6))"
   ]
  },
  {
   "cell_type": "code",
   "execution_count": 16,
   "metadata": {
    "collapsed": false
   },
   "outputs": [
    {
     "data": {
      "text/plain": [
       "count    14999.000000\n",
       "mean         0.716102\n",
       "std          0.171169\n",
       "min          0.360000\n",
       "25%          0.560000\n",
       "50%          0.720000\n",
       "75%          0.870000\n",
       "max          1.000000\n",
       "Name: last_evaluation, dtype: float64"
      ]
     },
     "execution_count": 16,
     "metadata": {},
     "output_type": "execute_result"
    }
   ],
   "source": [
    "#no outliers, just a little left skewed\n",
    "# Let's analyze last_evaluation\n",
    "# Let's start with boxplots this time\n",
    "\n",
    "data.last_evaluation.describe()"
   ]
  },
  {
   "cell_type": "code",
   "execution_count": 17,
   "metadata": {
    "collapsed": false
   },
   "outputs": [
    {
     "data": {
      "text/plain": [
       "<matplotlib.axes._subplots.AxesSubplot at 0x1600c27dbe0>"
      ]
     },
     "execution_count": 17,
     "metadata": {},
     "output_type": "execute_result"
    },
    {
     "data": {
      "image/png": "[encoded data removed]",
      "text/plain": [
       "<matplotlib.figure.Figure at 0x1600aec8278>"
      ]
     },
     "metadata": {},
     "output_type": "display_data"
    }
   ],
   "source": [
    "# Last evaluation is also distributed between 0 and 1. mean and median are quite close. nobody got evaluated less than 36 %\n",
    "# but is 36 % good ? Around 50% of population is below 72 %. u got to perform really well to get good rating in this company.\n",
    "data.last_evaluation.plot(kind =\"box\")\n"
   ]
  },
  {
   "cell_type": "code",
   "execution_count": 18,
   "metadata": {
    "collapsed": false
   },
   "outputs": [
    {
     "data": {
      "image/png": "[encoded data removed]",
      "text/plain": [
       "<matplotlib.figure.Figure at 0x1600b07cc18>"
      ]
     },
     "metadata": {},
     "output_type": "display_data"
    }
   ],
   "source": [
    "# no outliers and more normally distributed than satisfaction level\n",
    "data.last_evaluation.plot(kind=\"hist\")\n",
    "plt.xlabel(\"last_evaluation\")\n",
    "plt.ylabel(\"Number of Employees\")\n",
    "plt.title(\"last evaluation levels across employees\")\n",
    "plt.show()\n"
   ]
  },
  {
   "cell_type": "code",
   "execution_count": 19,
   "metadata": {
    "collapsed": false
   },
   "outputs": [
    {
     "data": {
      "text/plain": [
       "<matplotlib.axes._subplots.AxesSubplot at 0x1600c357e48>"
      ]
     },
     "execution_count": 19,
     "metadata": {},
     "output_type": "execute_result"
    },
    {
     "data": {
      "image/png": "[encoded data removed]",
      "text/plain": [
       "<matplotlib.figure.Figure at 0x1600c2cbba8>"
      ]
     },
     "metadata": {},
     "output_type": "display_data"
    }
   ],
   "source": [
    "# one thing to catch here, there are more people who got higher rating(> 80 %) than who got low (60%). A peak is at 50 %\n",
    "sns.distplot(data.last_evaluation)"
   ]
  },
  {
   "cell_type": "code",
   "execution_count": 20,
   "metadata": {
    "collapsed": true
   },
   "outputs": [],
   "source": [
    "#looks like a bi-modal distribution.our assumption of people getting higher evaluation holds true"
   ]
  },
  {
   "cell_type": "code",
   "execution_count": 21,
   "metadata": {
    "collapsed": false
   },
   "outputs": [
    {
     "data": {
      "text/plain": [
       "count    14999.000000\n",
       "mean       201.050337\n",
       "std         49.943099\n",
       "min         96.000000\n",
       "25%        156.000000\n",
       "50%        200.000000\n",
       "75%        245.000000\n",
       "max        310.000000\n",
       "Name: average_montly_hours, dtype: float64"
      ]
     },
     "execution_count": 21,
     "metadata": {},
     "output_type": "execute_result"
    }
   ],
   "source": [
    "#analyze the average_montly_hours\n",
    "data.average_montly_hours.describe()"
   ]
  },
  {
   "cell_type": "code",
   "execution_count": 22,
   "metadata": {
    "collapsed": false
   },
   "outputs": [
    {
     "data": {
      "image/png": "[encoded data removed]",
      "text/plain": [
       "<matplotlib.figure.Figure at 0x1600c331b00>"
      ]
     },
     "metadata": {},
     "output_type": "display_data"
    }
   ],
   "source": [
    "#looks good as mean and meadian are near\n",
    "data.average_montly_hours.plot(kind=\"hist\")\n",
    "plt.xlabel(\"average_montly_hours\")\n",
    "plt.ylabel(\"Number of Employees\")\n",
    "plt.title(\"Monthly hours spent by employees\")\n",
    "plt.show()\n"
   ]
  },
  {
   "cell_type": "code",
   "execution_count": 23,
   "metadata": {
    "collapsed": false
   },
   "outputs": [
    {
     "data": {
      "text/plain": [
       "<matplotlib.axes._subplots.AxesSubplot at 0x1600c5e02b0>"
      ]
     },
     "execution_count": 23,
     "metadata": {},
     "output_type": "execute_result"
    },
    {
     "data": {
      "image/png": "[encoded data removed]",
      "text/plain": [
       "<matplotlib.figure.Figure at 0x1600c1c2518>"
      ]
     },
     "metadata": {},
     "output_type": "display_data"
    }
   ],
   "source": [
    "# could be a perfect normal distribution if we exclude these two peaks,around 150 and 250, People on average spend 200 hours \n",
    "#on monthly basis. but a good number of people are spending more than 250.\n",
    "#could these be highly motivated(sarisfied) people or employees who got good evaluation. these answers can only be found by\n",
    "# bivariate analysis\n",
    "#We don't see any outlier, so sparing the boxplot.\n",
    "sns.distplot(data.average_montly_hours)"
   ]
  },
  {
   "cell_type": "code",
   "execution_count": 24,
   "metadata": {
    "collapsed": true
   },
   "outputs": [],
   "source": [
    "#Again looks like a bimodal disribution"
   ]
  },
  {
   "cell_type": "code",
   "execution_count": 25,
   "metadata": {
    "collapsed": false
   },
   "outputs": [
    {
     "name": "stdout",
     "output_type": "stream",
     "text": [
      "[2 5 7 6 4 3]\n"
     ]
    }
   ],
   "source": [
    "\n",
    "#let's look at categorical variables\n",
    "print(data.number_project.unique())\n"
   ]
  },
  {
   "cell_type": "code",
   "execution_count": 26,
   "metadata": {
    "collapsed": false
   },
   "outputs": [
    {
     "data": {
      "text/html": [
       "<div>\n",
       "<table border=\"1\" class=\"dataframe\">\n",
       "  <thead>\n",
       "    <tr style=\"text-align: right;\">\n",
       "      <th>col_0</th>\n",
       "      <th>Count</th>\n",
       "    </tr>\n",
       "    <tr>\n",
       "      <th>number_project</th>\n",
       "      <th></th>\n",
       "    </tr>\n",
       "  </thead>\n",
       "  <tbody>\n",
       "    <tr>\n",
       "      <th>2</th>\n",
       "      <td>0.159211</td>\n",
       "    </tr>\n",
       "    <tr>\n",
       "      <th>3</th>\n",
       "      <td>0.270351</td>\n",
       "    </tr>\n",
       "    <tr>\n",
       "      <th>4</th>\n",
       "      <td>0.291019</td>\n",
       "    </tr>\n",
       "    <tr>\n",
       "      <th>5</th>\n",
       "      <td>0.184079</td>\n",
       "    </tr>\n",
       "    <tr>\n",
       "      <th>6</th>\n",
       "      <td>0.078272</td>\n",
       "    </tr>\n",
       "    <tr>\n",
       "      <th>7</th>\n",
       "      <td>0.017068</td>\n",
       "    </tr>\n",
       "  </tbody>\n",
       "</table>\n",
       "</div>"
      ],
      "text/plain": [
       "col_0              Count\n",
       "number_project          \n",
       "2               0.159211\n",
       "3               0.270351\n",
       "4               0.291019\n",
       "5               0.184079\n",
       "6               0.078272\n",
       "7               0.017068"
      ]
     },
     "execution_count": 26,
     "metadata": {},
     "output_type": "execute_result"
    }
   ],
   "source": [
    "#there are six values for number of projects an employee has worked on. We can consider taking as an ordinal variable as we know \n",
    "# that 3 is higher than 2\n",
    "pd.crosstab(index=data.number_project,columns=\"Count\").apply(lambda l:l/len(Y),axis=1)"
   ]
  },
  {
   "cell_type": "code",
   "execution_count": 27,
   "metadata": {
    "collapsed": false
   },
   "outputs": [
    {
     "data": {
      "image/png": "[encoded data removed]",
      "text/plain": [
       "<matplotlib.figure.Figure at 0x1600ae6bcf8>"
      ]
     },
     "metadata": {},
     "output_type": "display_data"
    }
   ],
   "source": [
    "# very few people has worked on more than 5 projects and no fresher is here (eberybody has atleast worked on two projects) \n",
    "# 3 and 4 are prevailing categories\n",
    "pd.crosstab(index=data.number_project,columns=\"Count\").plot(kind=\"bar\")\n",
    "plt.xlabel(\"Number of Projects handled\")\n",
    "plt.ylabel(\"Number of Employees\")\n",
    "plt.title(\"Projects by employees\")\n",
    "plt.show()"
   ]
  },
  {
   "cell_type": "code",
   "execution_count": 28,
   "metadata": {
    "collapsed": false
   },
   "outputs": [
    {
     "name": "stdout",
     "output_type": "stream",
     "text": [
      "[ 3  6  4  5  2  8 10  7]\n"
     ]
    }
   ],
   "source": [
    "\n",
    "print(data.time_spend_company.unique())"
   ]
  },
  {
   "cell_type": "code",
   "execution_count": 29,
   "metadata": {
    "collapsed": false
   },
   "outputs": [
    {
     "data": {
      "text/html": [
       "<div>\n",
       "<table border=\"1\" class=\"dataframe\">\n",
       "  <thead>\n",
       "    <tr style=\"text-align: right;\">\n",
       "      <th>col_0</th>\n",
       "      <th>Count</th>\n",
       "    </tr>\n",
       "    <tr>\n",
       "      <th>time_spend_company</th>\n",
       "      <th></th>\n",
       "    </tr>\n",
       "  </thead>\n",
       "  <tbody>\n",
       "    <tr>\n",
       "      <th>2</th>\n",
       "      <td>0.216281</td>\n",
       "    </tr>\n",
       "    <tr>\n",
       "      <th>3</th>\n",
       "      <td>0.429562</td>\n",
       "    </tr>\n",
       "    <tr>\n",
       "      <th>4</th>\n",
       "      <td>0.170478</td>\n",
       "    </tr>\n",
       "    <tr>\n",
       "      <th>5</th>\n",
       "      <td>0.098207</td>\n",
       "    </tr>\n",
       "    <tr>\n",
       "      <th>6</th>\n",
       "      <td>0.047870</td>\n",
       "    </tr>\n",
       "    <tr>\n",
       "      <th>7</th>\n",
       "      <td>0.012534</td>\n",
       "    </tr>\n",
       "    <tr>\n",
       "      <th>8</th>\n",
       "      <td>0.010801</td>\n",
       "    </tr>\n",
       "    <tr>\n",
       "      <th>10</th>\n",
       "      <td>0.014268</td>\n",
       "    </tr>\n",
       "  </tbody>\n",
       "</table>\n",
       "</div>"
      ],
      "text/plain": [
       "col_0                  Count\n",
       "time_spend_company          \n",
       "2                   0.216281\n",
       "3                   0.429562\n",
       "4                   0.170478\n",
       "5                   0.098207\n",
       "6                   0.047870\n",
       "7                   0.012534\n",
       "8                   0.010801\n",
       "10                  0.014268"
      ]
     },
     "execution_count": 29,
     "metadata": {},
     "output_type": "execute_result"
    }
   ],
   "source": [
    "# 8 categories for number of years spent in company.Is there some bond for newbies ?\n",
    "pd.crosstab(index=data.time_spend_company,columns=\"Count\").apply(lambda l:l/len(Y),axis=1)"
   ]
  },
  {
   "cell_type": "code",
   "execution_count": 30,
   "metadata": {
    "collapsed": false
   },
   "outputs": [
    {
     "data": {
      "text/html": [
       "<div>\n",
       "<table border=\"1\" class=\"dataframe\">\n",
       "  <thead>\n",
       "    <tr style=\"text-align: right;\">\n",
       "      <th>left</th>\n",
       "      <th>0</th>\n",
       "      <th>1</th>\n",
       "    </tr>\n",
       "    <tr>\n",
       "      <th>time_spend_company</th>\n",
       "      <th></th>\n",
       "      <th></th>\n",
       "    </tr>\n",
       "  </thead>\n",
       "  <tbody>\n",
       "    <tr>\n",
       "      <th>2</th>\n",
       "      <td>3191</td>\n",
       "      <td>53</td>\n",
       "    </tr>\n",
       "    <tr>\n",
       "      <th>3</th>\n",
       "      <td>4857</td>\n",
       "      <td>1586</td>\n",
       "    </tr>\n",
       "    <tr>\n",
       "      <th>4</th>\n",
       "      <td>1667</td>\n",
       "      <td>890</td>\n",
       "    </tr>\n",
       "    <tr>\n",
       "      <th>5</th>\n",
       "      <td>640</td>\n",
       "      <td>833</td>\n",
       "    </tr>\n",
       "    <tr>\n",
       "      <th>6</th>\n",
       "      <td>509</td>\n",
       "      <td>209</td>\n",
       "    </tr>\n",
       "    <tr>\n",
       "      <th>7</th>\n",
       "      <td>188</td>\n",
       "      <td>0</td>\n",
       "    </tr>\n",
       "    <tr>\n",
       "      <th>8</th>\n",
       "      <td>162</td>\n",
       "      <td>0</td>\n",
       "    </tr>\n",
       "    <tr>\n",
       "      <th>10</th>\n",
       "      <td>214</td>\n",
       "      <td>0</td>\n",
       "    </tr>\n",
       "  </tbody>\n",
       "</table>\n",
       "</div>"
      ],
      "text/plain": [
       "left                   0     1\n",
       "time_spend_company            \n",
       "2                   3191    53\n",
       "3                   4857  1586\n",
       "4                   1667   890\n",
       "5                    640   833\n",
       "6                    509   209\n",
       "7                    188     0\n",
       "8                    162     0\n",
       "10                   214     0"
      ]
     },
     "execution_count": 30,
     "metadata": {},
     "output_type": "execute_result"
    }
   ],
   "source": [
    "#Around 82 % employees are equal or below 4 years. people tend to stay less ? People who are here for long time are more loyal ?\n",
    "pd.crosstab(index=data.time_spend_company,columns=Y)"
   ]
  },
  {
   "cell_type": "code",
   "execution_count": 31,
   "metadata": {
    "collapsed": true
   },
   "outputs": [],
   "source": [
    "# People who are here for more than 6 years won't leave and so only 2% of who are here for 2 years.\n",
    "#~ 1/4 of from 3 years\n",
    "# ~ 35 % of caegories 4 and 6\n",
    "# it's an interesting trend. if people stay more than 6 , they become loyal but at high risk at year 5\n"
   ]
  },
  {
   "cell_type": "code",
   "execution_count": 32,
   "metadata": {
    "collapsed": false
   },
   "outputs": [
    {
     "name": "stdout",
     "output_type": "stream",
     "text": [
      "[0 1]\n"
     ]
    }
   ],
   "source": [
    "\n",
    "print(data.Work_accident.unique())"
   ]
  },
  {
   "cell_type": "code",
   "execution_count": 33,
   "metadata": {
    "collapsed": false
   },
   "outputs": [
    {
     "data": {
      "text/html": [
       "<div>\n",
       "<table border=\"1\" class=\"dataframe\">\n",
       "  <thead>\n",
       "    <tr style=\"text-align: right;\">\n",
       "      <th>col_0</th>\n",
       "      <th>Count</th>\n",
       "    </tr>\n",
       "    <tr>\n",
       "      <th>Work_accident</th>\n",
       "      <th></th>\n",
       "    </tr>\n",
       "  </thead>\n",
       "  <tbody>\n",
       "    <tr>\n",
       "      <th>0</th>\n",
       "      <td>0.85539</td>\n",
       "    </tr>\n",
       "    <tr>\n",
       "      <th>1</th>\n",
       "      <td>0.14461</td>\n",
       "    </tr>\n",
       "  </tbody>\n",
       "</table>\n",
       "</div>"
      ],
      "text/plain": [
       "col_0            Count\n",
       "Work_accident         \n",
       "0              0.85539\n",
       "1              0.14461"
      ]
     },
     "execution_count": 33,
     "metadata": {},
     "output_type": "execute_result"
    }
   ],
   "source": [
    "# only two categories\n",
    "\n",
    "pd.crosstab(index=data.Work_accident,columns=\"Count\").apply(lambda l:l/len(Y),axis=1)"
   ]
  },
  {
   "cell_type": "code",
   "execution_count": 34,
   "metadata": {
    "collapsed": false
   },
   "outputs": [
    {
     "data": {
      "text/html": [
       "<div>\n",
       "<table border=\"1\" class=\"dataframe\">\n",
       "  <thead>\n",
       "    <tr style=\"text-align: right;\">\n",
       "      <th>left</th>\n",
       "      <th>0</th>\n",
       "      <th>1</th>\n",
       "    </tr>\n",
       "    <tr>\n",
       "      <th>Work_accident</th>\n",
       "      <th></th>\n",
       "      <th></th>\n",
       "    </tr>\n",
       "  </thead>\n",
       "  <tbody>\n",
       "    <tr>\n",
       "      <th>0</th>\n",
       "      <td>9428</td>\n",
       "      <td>3402</td>\n",
       "    </tr>\n",
       "    <tr>\n",
       "      <th>1</th>\n",
       "      <td>2000</td>\n",
       "      <td>169</td>\n",
       "    </tr>\n",
       "  </tbody>\n",
       "</table>\n",
       "</div>"
      ],
      "text/plain": [
       "left              0     1\n",
       "Work_accident            \n",
       "0              9428  3402\n",
       "1              2000   169"
      ]
     },
     "execution_count": 34,
     "metadata": {},
     "output_type": "execute_result"
    }
   ],
   "source": [
    "#Around 14 % people have had accidents. This should be minimized regardless of the effects on \"left\"\n",
    "pd.crosstab(index=data.Work_accident,columns=Y)"
   ]
  },
  {
   "cell_type": "code",
   "execution_count": 35,
   "metadata": {
    "collapsed": true
   },
   "outputs": [],
   "source": [
    "# well... it doesn't look if accident happened had something to do with why a person would leave a company."
   ]
  },
  {
   "cell_type": "code",
   "execution_count": 36,
   "metadata": {
    "collapsed": false
   },
   "outputs": [
    {
     "data": {
      "text/html": [
       "<div>\n",
       "<table border=\"1\" class=\"dataframe\">\n",
       "  <thead>\n",
       "    <tr style=\"text-align: right;\">\n",
       "      <th>col_0</th>\n",
       "      <th>Count</th>\n",
       "    </tr>\n",
       "    <tr>\n",
       "      <th>promotion_last_5years</th>\n",
       "      <th></th>\n",
       "    </tr>\n",
       "  </thead>\n",
       "  <tbody>\n",
       "    <tr>\n",
       "      <th>0</th>\n",
       "      <td>0.978732</td>\n",
       "    </tr>\n",
       "    <tr>\n",
       "      <th>1</th>\n",
       "      <td>0.021268</td>\n",
       "    </tr>\n",
       "  </tbody>\n",
       "</table>\n",
       "</div>"
      ],
      "text/plain": [
       "col_0                     Count\n",
       "promotion_last_5years          \n",
       "0                      0.978732\n",
       "1                      0.021268"
      ]
     },
     "execution_count": 36,
     "metadata": {},
     "output_type": "execute_result"
    }
   ],
   "source": [
    "\n",
    "pd.crosstab(index=data.promotion_last_5years,columns=\"Count\").apply(lambda l:l/len(Y),axis=1)"
   ]
  },
  {
   "cell_type": "code",
   "execution_count": 37,
   "metadata": {
    "collapsed": false
   },
   "outputs": [
    {
     "data": {
      "text/html": [
       "<div>\n",
       "<table border=\"1\" class=\"dataframe\">\n",
       "  <thead>\n",
       "    <tr style=\"text-align: right;\">\n",
       "      <th>left</th>\n",
       "      <th>0</th>\n",
       "      <th>1</th>\n",
       "    </tr>\n",
       "    <tr>\n",
       "      <th>promotion_last_5years</th>\n",
       "      <th></th>\n",
       "      <th></th>\n",
       "    </tr>\n",
       "  </thead>\n",
       "  <tbody>\n",
       "    <tr>\n",
       "      <th>0</th>\n",
       "      <td>11128</td>\n",
       "      <td>3552</td>\n",
       "    </tr>\n",
       "    <tr>\n",
       "      <th>1</th>\n",
       "      <td>300</td>\n",
       "      <td>19</td>\n",
       "    </tr>\n",
       "  </tbody>\n",
       "</table>\n",
       "</div>"
      ],
      "text/plain": [
       "left                       0     1\n",
       "promotion_last_5years             \n",
       "0                      11128  3552\n",
       "1                        300    19"
      ]
     },
     "execution_count": 37,
     "metadata": {},
     "output_type": "execute_result"
    }
   ],
   "source": [
    "#very few employees got promotion last year. this should not be a factor for this year's attrition.\n",
    "pd.crosstab(index=data.promotion_last_5years,columns=Y)"
   ]
  },
  {
   "cell_type": "code",
   "execution_count": 38,
   "metadata": {
    "collapsed": false
   },
   "outputs": [
    {
     "data": {
      "text/html": [
       "<div>\n",
       "<table border=\"1\" class=\"dataframe\">\n",
       "  <thead>\n",
       "    <tr>\n",
       "      <th>time_spend_company</th>\n",
       "      <th colspan=\"2\" halign=\"left\">2</th>\n",
       "      <th colspan=\"2\" halign=\"left\">3</th>\n",
       "      <th colspan=\"2\" halign=\"left\">4</th>\n",
       "      <th colspan=\"2\" halign=\"left\">5</th>\n",
       "      <th colspan=\"2\" halign=\"left\">6</th>\n",
       "      <th>7</th>\n",
       "      <th>8</th>\n",
       "      <th>10</th>\n",
       "    </tr>\n",
       "    <tr>\n",
       "      <th>left</th>\n",
       "      <th>0</th>\n",
       "      <th>1</th>\n",
       "      <th>0</th>\n",
       "      <th>1</th>\n",
       "      <th>0</th>\n",
       "      <th>1</th>\n",
       "      <th>0</th>\n",
       "      <th>1</th>\n",
       "      <th>0</th>\n",
       "      <th>1</th>\n",
       "      <th>0</th>\n",
       "      <th>0</th>\n",
       "      <th>0</th>\n",
       "    </tr>\n",
       "    <tr>\n",
       "      <th>promotion_last_5years</th>\n",
       "      <th></th>\n",
       "      <th></th>\n",
       "      <th></th>\n",
       "      <th></th>\n",
       "      <th></th>\n",
       "      <th></th>\n",
       "      <th></th>\n",
       "      <th></th>\n",
       "      <th></th>\n",
       "      <th></th>\n",
       "      <th></th>\n",
       "      <th></th>\n",
       "      <th></th>\n",
       "    </tr>\n",
       "  </thead>\n",
       "  <tbody>\n",
       "    <tr>\n",
       "      <th>0</th>\n",
       "      <td>3137</td>\n",
       "      <td>53</td>\n",
       "      <td>4738</td>\n",
       "      <td>1571</td>\n",
       "      <td>1635</td>\n",
       "      <td>887</td>\n",
       "      <td>624</td>\n",
       "      <td>832</td>\n",
       "      <td>492</td>\n",
       "      <td>209</td>\n",
       "      <td>152</td>\n",
       "      <td>152</td>\n",
       "      <td>198</td>\n",
       "    </tr>\n",
       "    <tr>\n",
       "      <th>1</th>\n",
       "      <td>54</td>\n",
       "      <td>0</td>\n",
       "      <td>119</td>\n",
       "      <td>15</td>\n",
       "      <td>32</td>\n",
       "      <td>3</td>\n",
       "      <td>16</td>\n",
       "      <td>1</td>\n",
       "      <td>17</td>\n",
       "      <td>0</td>\n",
       "      <td>36</td>\n",
       "      <td>10</td>\n",
       "      <td>16</td>\n",
       "    </tr>\n",
       "  </tbody>\n",
       "</table>\n",
       "</div>"
      ],
      "text/plain": [
       "time_spend_company       2         3           4         5         6        \\\n",
       "left                      0   1     0     1     0    1    0    1    0    1   \n",
       "promotion_last_5years                                                        \n",
       "0                      3137  53  4738  1571  1635  887  624  832  492  209   \n",
       "1                        54   0   119    15    32    3   16    1   17    0   \n",
       "\n",
       "time_spend_company      7    8    10  \n",
       "left                     0    0    0  \n",
       "promotion_last_5years                 \n",
       "0                      152  152  198  \n",
       "1                       36   10   16  "
      ]
     },
     "execution_count": 38,
     "metadata": {},
     "output_type": "execute_result"
    }
   ],
   "source": [
    "#like we speculated. \n",
    "pd.crosstab(index=data.promotion_last_5years,columns=[data.time_spend_company,Y])"
   ]
  },
  {
   "cell_type": "code",
   "execution_count": 39,
   "metadata": {
    "collapsed": true
   },
   "outputs": [],
   "source": [
    "# no cross transaction as well"
   ]
  },
  {
   "cell_type": "code",
   "execution_count": 40,
   "metadata": {
    "collapsed": false
   },
   "outputs": [
    {
     "data": {
      "text/html": [
       "<div>\n",
       "<table border=\"1\" class=\"dataframe\">\n",
       "  <thead>\n",
       "    <tr style=\"text-align: right;\">\n",
       "      <th>col_0</th>\n",
       "      <th>Count</th>\n",
       "    </tr>\n",
       "    <tr>\n",
       "      <th>sales</th>\n",
       "      <th></th>\n",
       "    </tr>\n",
       "  </thead>\n",
       "  <tbody>\n",
       "    <tr>\n",
       "      <th>IT</th>\n",
       "      <td>0.081805</td>\n",
       "    </tr>\n",
       "    <tr>\n",
       "      <th>RandD</th>\n",
       "      <td>0.052470</td>\n",
       "    </tr>\n",
       "    <tr>\n",
       "      <th>accounting</th>\n",
       "      <td>0.051137</td>\n",
       "    </tr>\n",
       "    <tr>\n",
       "      <th>hr</th>\n",
       "      <td>0.049270</td>\n",
       "    </tr>\n",
       "    <tr>\n",
       "      <th>management</th>\n",
       "      <td>0.042003</td>\n",
       "    </tr>\n",
       "    <tr>\n",
       "      <th>marketing</th>\n",
       "      <td>0.057204</td>\n",
       "    </tr>\n",
       "    <tr>\n",
       "      <th>product_mng</th>\n",
       "      <td>0.060137</td>\n",
       "    </tr>\n",
       "    <tr>\n",
       "      <th>sales</th>\n",
       "      <td>0.276018</td>\n",
       "    </tr>\n",
       "    <tr>\n",
       "      <th>support</th>\n",
       "      <td>0.148610</td>\n",
       "    </tr>\n",
       "    <tr>\n",
       "      <th>technical</th>\n",
       "      <td>0.181345</td>\n",
       "    </tr>\n",
       "  </tbody>\n",
       "</table>\n",
       "</div>"
      ],
      "text/plain": [
       "col_0           Count\n",
       "sales                \n",
       "IT           0.081805\n",
       "RandD        0.052470\n",
       "accounting   0.051137\n",
       "hr           0.049270\n",
       "management   0.042003\n",
       "marketing    0.057204\n",
       "product_mng  0.060137\n",
       "sales        0.276018\n",
       "support      0.148610\n",
       "technical    0.181345"
      ]
     },
     "execution_count": 40,
     "metadata": {},
     "output_type": "execute_result"
    }
   ],
   "source": [
    "\n",
    "pd.crosstab(index=data.sales,columns=\"Count\").apply(lambda l:l/len(Y))"
   ]
  },
  {
   "cell_type": "code",
   "execution_count": 41,
   "metadata": {
    "collapsed": false
   },
   "outputs": [
    {
     "data": {
      "text/html": [
       "<div>\n",
       "<table border=\"1\" class=\"dataframe\">\n",
       "  <thead>\n",
       "    <tr style=\"text-align: right;\">\n",
       "      <th>left</th>\n",
       "      <th>0</th>\n",
       "      <th>1</th>\n",
       "    </tr>\n",
       "    <tr>\n",
       "      <th>sales</th>\n",
       "      <th></th>\n",
       "      <th></th>\n",
       "    </tr>\n",
       "  </thead>\n",
       "  <tbody>\n",
       "    <tr>\n",
       "      <th>IT</th>\n",
       "      <td>954</td>\n",
       "      <td>273</td>\n",
       "    </tr>\n",
       "    <tr>\n",
       "      <th>RandD</th>\n",
       "      <td>666</td>\n",
       "      <td>121</td>\n",
       "    </tr>\n",
       "    <tr>\n",
       "      <th>accounting</th>\n",
       "      <td>563</td>\n",
       "      <td>204</td>\n",
       "    </tr>\n",
       "    <tr>\n",
       "      <th>hr</th>\n",
       "      <td>524</td>\n",
       "      <td>215</td>\n",
       "    </tr>\n",
       "    <tr>\n",
       "      <th>management</th>\n",
       "      <td>539</td>\n",
       "      <td>91</td>\n",
       "    </tr>\n",
       "    <tr>\n",
       "      <th>marketing</th>\n",
       "      <td>655</td>\n",
       "      <td>203</td>\n",
       "    </tr>\n",
       "    <tr>\n",
       "      <th>product_mng</th>\n",
       "      <td>704</td>\n",
       "      <td>198</td>\n",
       "    </tr>\n",
       "    <tr>\n",
       "      <th>sales</th>\n",
       "      <td>3126</td>\n",
       "      <td>1014</td>\n",
       "    </tr>\n",
       "    <tr>\n",
       "      <th>support</th>\n",
       "      <td>1674</td>\n",
       "      <td>555</td>\n",
       "    </tr>\n",
       "    <tr>\n",
       "      <th>technical</th>\n",
       "      <td>2023</td>\n",
       "      <td>697</td>\n",
       "    </tr>\n",
       "  </tbody>\n",
       "</table>\n",
       "</div>"
      ],
      "text/plain": [
       "left            0     1\n",
       "sales                  \n",
       "IT            954   273\n",
       "RandD         666   121\n",
       "accounting    563   204\n",
       "hr            524   215\n",
       "management    539    91\n",
       "marketing     655   203\n",
       "product_mng   704   198\n",
       "sales        3126  1014\n",
       "support      1674   555\n",
       "technical    2023   697"
      ]
     },
     "execution_count": 41,
     "metadata": {},
     "output_type": "execute_result"
    }
   ],
   "source": [
    "# around 70 % employees from IT ,Sales,Support and technical. Shall we bin rest in a new category \"Others\" ?\n",
    "pd.crosstab(index=data.sales,columns=Y)"
   ]
  },
  {
   "cell_type": "code",
   "execution_count": 42,
   "metadata": {
    "collapsed": true
   },
   "outputs": [],
   "source": [
    "#I did not guess that. Accounting and HR have more attrition rate. Do they know about other jobs ?\n"
   ]
  },
  {
   "cell_type": "code",
   "execution_count": 43,
   "metadata": {
    "collapsed": false
   },
   "outputs": [
    {
     "data": {
      "text/html": [
       "<div>\n",
       "<table border=\"1\" class=\"dataframe\">\n",
       "  <thead>\n",
       "    <tr style=\"text-align: right;\">\n",
       "      <th>col_0</th>\n",
       "      <th>Count</th>\n",
       "    </tr>\n",
       "    <tr>\n",
       "      <th>salary</th>\n",
       "      <th></th>\n",
       "    </tr>\n",
       "  </thead>\n",
       "  <tbody>\n",
       "    <tr>\n",
       "      <th>high</th>\n",
       "      <td>0.082472</td>\n",
       "    </tr>\n",
       "    <tr>\n",
       "      <th>low</th>\n",
       "      <td>0.487766</td>\n",
       "    </tr>\n",
       "    <tr>\n",
       "      <th>medium</th>\n",
       "      <td>0.429762</td>\n",
       "    </tr>\n",
       "  </tbody>\n",
       "</table>\n",
       "</div>"
      ],
      "text/plain": [
       "col_0      Count\n",
       "salary          \n",
       "high    0.082472\n",
       "low     0.487766\n",
       "medium  0.429762"
      ]
     },
     "execution_count": 43,
     "metadata": {},
     "output_type": "execute_result"
    }
   ],
   "source": [
    "# [\"number_project\",\"time_spend_company\",\"Work_accident\",\"promotion_last_5years\",\"sales\",\"salary\"]\n",
    "pd.crosstab(index=data.salary,columns=\"Count\").apply(lambda l:l/len(Y))"
   ]
  },
  {
   "cell_type": "code",
   "execution_count": 44,
   "metadata": {
    "collapsed": false
   },
   "outputs": [
    {
     "data": {
      "text/html": [
       "<div>\n",
       "<table border=\"1\" class=\"dataframe\">\n",
       "  <thead>\n",
       "    <tr style=\"text-align: right;\">\n",
       "      <th>left</th>\n",
       "      <th>0</th>\n",
       "      <th>1</th>\n",
       "    </tr>\n",
       "    <tr>\n",
       "      <th>salary</th>\n",
       "      <th></th>\n",
       "      <th></th>\n",
       "    </tr>\n",
       "  </thead>\n",
       "  <tbody>\n",
       "    <tr>\n",
       "      <th>high</th>\n",
       "      <td>1155</td>\n",
       "      <td>82</td>\n",
       "    </tr>\n",
       "    <tr>\n",
       "      <th>low</th>\n",
       "      <td>5144</td>\n",
       "      <td>2172</td>\n",
       "    </tr>\n",
       "    <tr>\n",
       "      <th>medium</th>\n",
       "      <td>5129</td>\n",
       "      <td>1317</td>\n",
       "    </tr>\n",
       "  </tbody>\n",
       "</table>\n",
       "</div>"
      ],
      "text/plain": [
       "left       0     1\n",
       "salary            \n",
       "high    1155    82\n",
       "low     5144  2172\n",
       "medium  5129  1317"
      ]
     },
     "execution_count": 44,
     "metadata": {},
     "output_type": "execute_result"
    }
   ],
   "source": [
    "#Very few High end earning employees. No doubt people are leaving. Around half of the employees are on les salry than they deserv :)\n",
    "pd.crosstab(index=data.salary,columns=Y)"
   ]
  },
  {
   "cell_type": "code",
   "execution_count": 45,
   "metadata": {
    "collapsed": true
   },
   "outputs": [],
   "source": [
    "# we have a culprit here. Looks like salary plays a vtal role. employees with low salry doesn't leave . This can be an ordinal variable\n"
   ]
  },
  {
   "cell_type": "code",
   "execution_count": 197,
   "metadata": {
    "collapsed": false
   },
   "outputs": [
    {
     "data": {
      "text/plain": [
       "<matplotlib.axes._subplots.AxesSubplot at 0x1600e89dc88>"
      ]
     },
     "execution_count": 197,
     "metadata": {},
     "output_type": "execute_result"
    },
    {
     "data": {
      "image/png": "[encoded data removed]",
      "text/plain": [
       "<matplotlib.figure.Figure at 0x1600c165e48>"
      ]
     },
     "metadata": {},
     "output_type": "display_data"
    }
   ],
   "source": [
    "# let's quickly do a bivariate analysis for our numerical variables\n",
    "# [\"satisfaction_level\",\"last_evaluation\",\"average_montly_hours\"]\n",
    "# satisfaction_level\" and last_evaluation\"\n",
    "cnDf = data.drop({column for column in data.keys() if column not in contVar},axis=1).copy()\n",
    "ctDf = data.drop({column for column in data.keys() if column not in catVar},axis=1).copy()\n",
    "corMat =cnDf.corr()\n",
    "sns.heatmap(corMat,square=True,cbar=True,fmt=\"%.02f\",)"
   ]
  },
  {
   "cell_type": "code",
   "execution_count": 198,
   "metadata": {
    "collapsed": true
   },
   "outputs": [],
   "source": [
    "# We can see that only last_evaluation and average_monthly_hours are correlated and hat two is weakly( around .40)"
   ]
  },
  {
   "cell_type": "code",
   "execution_count": 199,
   "metadata": {
    "collapsed": true
   },
   "outputs": [],
   "source": [
    "#Now we can start with data preprocessing.\n",
    "# We will create dummy variables for categorical fields axcept for the ordinal ones\n",
    "# we will standardize all the categorical variables to equal the effect of their coefficients."
   ]
  },
  {
   "cell_type": "code",
   "execution_count": 200,
   "metadata": {
    "collapsed": false
   },
   "outputs": [],
   "source": [
    "from sklearn.preprocessing import StandardScaler\n",
    "# from sklearn.preprocessing import OneHotEncoder,LabelEncoder\n",
    "standardSc =StandardScaler()\n",
    "x = cnDf.values\n",
    "x_scaled = standardSc.fit_transform(x)\n",
    "cnDf = pd.DataFrame(x_scaled,columns=cnDf.columns)"
   ]
  },
  {
   "cell_type": "code",
   "execution_count": 201,
   "metadata": {
    "collapsed": false
   },
   "outputs": [],
   "source": [
    "#creating dummies of categorical vars\n",
    "workDF = pd.get_dummies(ctDf.Work_accident,prefix=\"Work_Accident\")\n",
    "salesDF = pd.get_dummies(ctDf.sales,prefix =\"DepartMent\")\n",
    "promotionDf = pd.get_dummies(ctDf.promotion_last_5years,prefix=\"HadPromotion\")"
   ]
  },
  {
   "cell_type": "code",
   "execution_count": 202,
   "metadata": {
    "collapsed": false
   },
   "outputs": [],
   "source": [
    "# get Final catgoricalDataset\n",
    "colToKeep = [\"number_project\",\"time_spend_company\",\"salary\"]\n",
    "ctDf = ctDf[colToKeep].join(workDF.ix[:,\"Work_Accident_1\":])"
   ]
  },
  {
   "cell_type": "code",
   "execution_count": 203,
   "metadata": {
    "collapsed": true
   },
   "outputs": [],
   "source": [
    "ctDf = ctDf.join(salesDF.ix[:,\"DepartMent_RandD\":])\n",
    "ctDf = ctDf.join(promotionDf.ix[:,\"HadPromotion_1\":])"
   ]
  },
  {
   "cell_type": "code",
   "execution_count": 204,
   "metadata": {
    "collapsed": false
   },
   "outputs": [],
   "source": [
    "#now add our Final Dataset\n",
    "finalData =  cnDf.join(ctDf)"
   ]
  },
  {
   "cell_type": "code",
   "execution_count": 205,
   "metadata": {
    "collapsed": false
   },
   "outputs": [
    {
     "data": {
      "text/html": [
       "<div>\n",
       "<table border=\"1\" class=\"dataframe\">\n",
       "  <thead>\n",
       "    <tr style=\"text-align: right;\">\n",
       "      <th></th>\n",
       "      <th>satisfaction_level</th>\n",
       "      <th>last_evaluation</th>\n",
       "      <th>average_montly_hours</th>\n",
       "      <th>number_project</th>\n",
       "      <th>time_spend_company</th>\n",
       "      <th>salary</th>\n",
       "      <th>Work_Accident_1</th>\n",
       "      <th>DepartMent_RandD</th>\n",
       "      <th>DepartMent_accounting</th>\n",
       "      <th>DepartMent_hr</th>\n",
       "      <th>DepartMent_management</th>\n",
       "      <th>DepartMent_marketing</th>\n",
       "      <th>DepartMent_product_mng</th>\n",
       "      <th>DepartMent_sales</th>\n",
       "      <th>DepartMent_support</th>\n",
       "      <th>DepartMent_technical</th>\n",
       "      <th>HadPromotion_1</th>\n",
       "    </tr>\n",
       "  </thead>\n",
       "  <tbody>\n",
       "    <tr>\n",
       "      <th>0</th>\n",
       "      <td>-0.936495</td>\n",
       "      <td>-1.087275</td>\n",
       "      <td>-0.88204</td>\n",
       "      <td>2</td>\n",
       "      <td>3</td>\n",
       "      <td>low</td>\n",
       "      <td>0.0</td>\n",
       "      <td>0.0</td>\n",
       "      <td>0.0</td>\n",
       "      <td>0.0</td>\n",
       "      <td>0.0</td>\n",
       "      <td>0.0</td>\n",
       "      <td>0.0</td>\n",
       "      <td>1.0</td>\n",
       "      <td>0.0</td>\n",
       "      <td>0.0</td>\n",
       "      <td>0.0</td>\n",
       "    </tr>\n",
       "  </tbody>\n",
       "</table>\n",
       "</div>"
      ],
      "text/plain": [
       "   satisfaction_level  last_evaluation  average_montly_hours  number_project  \\\n",
       "0           -0.936495        -1.087275              -0.88204               2   \n",
       "\n",
       "   time_spend_company salary  Work_Accident_1  DepartMent_RandD  \\\n",
       "0                   3    low              0.0               0.0   \n",
       "\n",
       "   DepartMent_accounting  DepartMent_hr  DepartMent_management  \\\n",
       "0                    0.0            0.0                    0.0   \n",
       "\n",
       "   DepartMent_marketing  DepartMent_product_mng  DepartMent_sales  \\\n",
       "0                   0.0                     0.0               1.0   \n",
       "\n",
       "   DepartMent_support  DepartMent_technical  HadPromotion_1  \n",
       "0                 0.0                   0.0             0.0  "
      ]
     },
     "execution_count": 205,
     "metadata": {},
     "output_type": "execute_result"
    }
   ],
   "source": [
    "finalData.head(1)"
   ]
  },
  {
   "cell_type": "code",
   "execution_count": 206,
   "metadata": {
    "collapsed": true
   },
   "outputs": [],
   "source": [
    "#Add an intercept term for the categories we deleted to avoid dummy var trap\n",
    "\n",
    "# finalData[\"intercept\"]=1\n",
    "finalData[\"Left\"]= Y"
   ]
  },
  {
   "cell_type": "code",
   "execution_count": 223,
   "metadata": {
    "collapsed": false
   },
   "outputs": [
    {
     "data": {
      "text/plain": [
       "array([0., 1.])"
      ]
     },
     "execution_count": 223,
     "metadata": {},
     "output_type": "execute_result"
    }
   ],
   "source": [
    "np.unique(Y1)"
   ]
  },
  {
   "cell_type": "code",
   "execution_count": 207,
   "metadata": {
    "collapsed": false
   },
   "outputs": [
    {
     "data": {
      "text/html": [
       "<div>\n",
       "<table border=\"1\" class=\"dataframe\">\n",
       "  <thead>\n",
       "    <tr style=\"text-align: right;\">\n",
       "      <th></th>\n",
       "      <th>satisfaction_level</th>\n",
       "      <th>last_evaluation</th>\n",
       "      <th>average_montly_hours</th>\n",
       "      <th>number_project</th>\n",
       "      <th>time_spend_company</th>\n",
       "      <th>salary</th>\n",
       "      <th>Work_Accident_1</th>\n",
       "      <th>DepartMent_RandD</th>\n",
       "      <th>DepartMent_accounting</th>\n",
       "      <th>DepartMent_hr</th>\n",
       "      <th>DepartMent_management</th>\n",
       "      <th>DepartMent_marketing</th>\n",
       "      <th>DepartMent_product_mng</th>\n",
       "      <th>DepartMent_sales</th>\n",
       "      <th>DepartMent_support</th>\n",
       "      <th>DepartMent_technical</th>\n",
       "      <th>HadPromotion_1</th>\n",
       "      <th>Left</th>\n",
       "    </tr>\n",
       "  </thead>\n",
       "  <tbody>\n",
       "    <tr>\n",
       "      <th>0</th>\n",
       "      <td>-0.936495</td>\n",
       "      <td>-1.087275</td>\n",
       "      <td>-0.88204</td>\n",
       "      <td>2</td>\n",
       "      <td>3</td>\n",
       "      <td>low</td>\n",
       "      <td>0.0</td>\n",
       "      <td>0.0</td>\n",
       "      <td>0.0</td>\n",
       "      <td>0.0</td>\n",
       "      <td>0.0</td>\n",
       "      <td>0.0</td>\n",
       "      <td>0.0</td>\n",
       "      <td>1.0</td>\n",
       "      <td>0.0</td>\n",
       "      <td>0.0</td>\n",
       "      <td>0.0</td>\n",
       "      <td>1</td>\n",
       "    </tr>\n",
       "  </tbody>\n",
       "</table>\n",
       "</div>"
      ],
      "text/plain": [
       "   satisfaction_level  last_evaluation  average_montly_hours  number_project  \\\n",
       "0           -0.936495        -1.087275              -0.88204               2   \n",
       "\n",
       "   time_spend_company salary  Work_Accident_1  DepartMent_RandD  \\\n",
       "0                   3    low              0.0               0.0   \n",
       "\n",
       "   DepartMent_accounting  DepartMent_hr  DepartMent_management  \\\n",
       "0                    0.0            0.0                    0.0   \n",
       "\n",
       "   DepartMent_marketing  DepartMent_product_mng  DepartMent_sales  \\\n",
       "0                   0.0                     0.0               1.0   \n",
       "\n",
       "   DepartMent_support  DepartMent_technical  HadPromotion_1  Left  \n",
       "0                 0.0                   0.0             0.0     1  "
      ]
     },
     "execution_count": 207,
     "metadata": {},
     "output_type": "execute_result"
    }
   ],
   "source": [
    "# Perform data split \n",
    "train,test = train_test_split(finalData,test_size=.3)\n",
    "finalData.head(1)"
   ]
  },
  {
   "cell_type": "code",
   "execution_count": 209,
   "metadata": {
    "collapsed": false
   },
   "outputs": [
    {
     "name": "stdout",
     "output_type": "stream",
     "text": [
      "Warning: Maximum number of iterations has been exceeded.\n",
      "         Current function value: 0.256243\n",
      "         Iterations: 35\n",
      "         Function evaluations: 36\n",
      "         Gradient evaluations: 36\n"
     ]
    },
    {
     "name": "stderr",
     "output_type": "stream",
     "text": [
      "C:\\Users\\anurag dubey\\Anaconda3\\lib\\site-packages\\statsmodels-0.8.0-py3.5-win-amd64.egg\\statsmodels\\base\\model.py:508: ConvergenceWarning: Maximum Likelihood optimization failed to converge. Check mle_retvals\n",
      "  \"Check mle_retvals\", ConvergenceWarning)\n"
     ]
    }
   ],
   "source": [
    "#Now perform Logistic regression, We will use Statsmodel's Logit function here to generate the model\n",
    "f = \"Left~satisfaction_level+last_evaluation+average_montly_hours+C(number_project)+C(time_spend_company)+C(salary)+Work_Accident_1+DepartMent_RandD+DepartMent_accounting+DepartMent_hr+DepartMent_management+DepartMent_marketing+DepartMent_product_mng+DepartMent_sales+DepartMent_support+DepartMent_technical+HadPromotion_1\"\n",
    "import patsy\n",
    "Y,X = patsy.dmatrices(f, train, return_type='dataframe')\n",
    "Y1,X1 =patsy.dmatrices(f, test, return_type='dataframe') \n",
    "model = smf.Logit(Y,X).fit(method=\"bfgs\")"
   ]
  },
  {
   "cell_type": "code",
   "execution_count": 210,
   "metadata": {
    "collapsed": false
   },
   "outputs": [
    {
     "name": "stdout",
     "output_type": "stream",
     "text": [
      "                           Logit Regression Results                           \n",
      "==============================================================================\n",
      "Dep. Variable:                   Left   No. Observations:                10499\n",
      "Model:                          Logit   Df Residuals:                    10470\n",
      "Method:                           MLE   Df Model:                           28\n",
      "Date:                Sat, 12 May 2018   Pseudo R-squ.:                  0.5319\n",
      "Time:                        01:52:47   Log-Likelihood:                -2690.3\n",
      "converged:                      False   LL-Null:                       -5747.7\n",
      "                                        LLR p-value:                     0.000\n",
      "===============================================================================================\n",
      "                                  coef    std err          z      P>|z|      [0.025      0.975]\n",
      "-----------------------------------------------------------------------------------------------\n",
      "Intercept                      -1.3143      0.242     -5.441      0.000      -1.788      -0.841\n",
      "C(number_project)[T.3]         -5.6142      0.195    -28.852      0.000      -5.996      -5.233\n",
      "C(number_project)[T.4]         -3.9604      0.120    -32.881      0.000      -4.196      -3.724\n",
      "C(number_project)[T.5]         -3.3217      0.123    -27.115      0.000      -3.562      -3.082\n",
      "C(number_project)[T.6]         -2.2178      0.145    -15.258      0.000      -2.503      -1.933\n",
      "C(number_project)[T.7]          1.3473      0.722      1.866      0.062      -0.067       2.762\n",
      "C(time_spend_company)[T.3]      1.4591      0.141     10.342      0.000       1.183       1.736\n",
      "C(time_spend_company)[T.4]      1.7453      0.162     10.771      0.000       1.428       2.063\n",
      "C(time_spend_company)[T.5]      3.3687      0.156     21.655      0.000       3.064       3.674\n",
      "C(time_spend_company)[T.6]      2.2183      0.182     12.195      0.000       1.862       2.575\n",
      "C(time_spend_company)[T.7]     -0.6148      0.634     -0.970      0.332      -1.856       0.627\n",
      "C(time_spend_company)[T.8]     -0.5190      0.631     -0.822      0.411      -1.756       0.718\n",
      "C(time_spend_company)[T.10]    -0.5841      0.793     -0.736      0.461      -2.139       0.970\n",
      "C(salary)[T.low]                1.6209      0.176      9.204      0.000       1.276       1.966\n",
      "C(salary)[T.medium]             0.9402      0.178      5.275      0.000       0.591       1.289\n",
      "satisfaction_level             -0.4148      0.041    -10.207      0.000      -0.495      -0.335\n",
      "last_evaluation                 0.3469      0.043      8.043      0.000       0.262       0.431\n",
      "average_montly_hours            0.4202      0.042      9.892      0.000       0.337       0.503\n",
      "Work_Accident_1                -1.7666      0.133    -13.320      0.000      -2.027      -1.507\n",
      "DepartMent_RandD               -0.6067      0.202     -3.005      0.003      -1.003      -0.211\n",
      "DepartMent_accounting           0.1376      0.185      0.743      0.457      -0.225       0.500\n",
      "DepartMent_hr                   0.3673      0.186      1.974      0.048       0.003       0.732\n",
      "DepartMent_management          -0.5200      0.237     -2.197      0.028      -0.984      -0.056\n",
      "DepartMent_marketing            0.1576      0.182      0.864      0.388      -0.200       0.515\n",
      "DepartMent_product_mng         -0.1848      0.176     -1.048      0.295      -0.530       0.161\n",
      "DepartMent_sales               -0.0586      0.133     -0.442      0.658      -0.318       0.201\n",
      "DepartMent_support              0.1174      0.146      0.806      0.420      -0.168       0.403\n",
      "DepartMent_technical            0.0010      0.140      0.007      0.994      -0.273       0.275\n",
      "HadPromotion_1                 -0.7090      0.370     -1.916      0.055      -1.434       0.016\n",
      "===============================================================================================\n"
     ]
    }
   ],
   "source": [
    "print(model.summary())"
   ]
  },
  {
   "cell_type": "code",
   "execution_count": null,
   "metadata": {
    "collapsed": true
   },
   "outputs": [],
   "source": [
    "# We have got a model with Pseudo r squared .52\n",
    "#Number of projects is a significant variable and shows a pattern that Log odds of person leaving company decrease as number of projects\n",
    "# increases\n",
    "# we see that for number of project & , log odds increase dramatically but it is insignificant in terms of associated p vales\n",
    "# Log odds of a person leaving the company increase as Years in company increase but comes down as person complete six years\n",
    "# log odds of person leaving company are higher for salary type low and then these are decreasing \n",
    "# log odds of leaving for a low salry person are .81 times higher than a person who is getting higher salary\n",
    "# Satisfaction level as a negative impact on tendency to leave.For 1 unit increase in satisfaction will decrease the log odds of leaving by .52\n",
    "#Last evaluation and average monthly hours seem to have postive effect on the log odds of leaing\n",
    "# log odds "
   ]
  },
  {
   "cell_type": "code",
   "execution_count": 213,
   "metadata": {
    "collapsed": false
   },
   "outputs": [
    {
     "data": {
      "text/plain": [
       "10499"
      ]
     },
     "execution_count": 213,
     "metadata": {},
     "output_type": "execute_result"
    }
   ],
   "source": [
    "pred =model.predict(X)"
   ]
  },
  {
   "cell_type": "code",
   "execution_count": 242,
   "metadata": {
    "collapsed": false
   },
   "outputs": [
    {
     "name": "stdout",
     "output_type": "stream",
     "text": [
      "Area under the curve is 0.53\n"
     ]
    }
   ],
   "source": [
    "from sklearn.metrics import classification_report,confusion_matrix,f1_score,precision_recall_curve,auc\n",
    "fpr,tpr,thresholds= precision_recall_curve(Y,pred)\n",
    "roc_auc = auc(fpr,tpr,reorder=True)\n",
    "print (\"Area under the curve is %.02f\"% roc_auc)"
   ]
  },
  {
   "cell_type": "code",
   "execution_count": 249,
   "metadata": {
    "collapsed": false
   },
   "outputs": [],
   "source": [
    "def cutoff_youdens_j(fpr,tpr,thresholds):\n",
    "    j_scores = tpr-fpr\n",
    "    j_ordered = sorted(zip(j_scores,thresholds))\n",
    "    return j_ordered[-1][1]\n",
    "opt = cutoff_youdens_j(fpr,tpr,thresholds)"
   ]
  },
  {
   "cell_type": "code",
   "execution_count": null,
   "metadata": {
    "collapsed": true
   },
   "outputs": [],
   "source": [
    "#We have a f1 score of .79 with our base model on our whole data, this is a bad approach to test on the whole data as we are not \n",
    "# keeping anything for validation but I am just doing it to keep the act together."
   ]
  },
  {
   "cell_type": "code",
   "execution_count": 273,
   "metadata": {
    "collapsed": false
   },
   "outputs": [],
   "source": [
    "bestF=0\n",
    "bestP=0\n",
    "prange = np.arange(min(pred),max(pred),.01)\n",
    "for p in np.nditer(prange):\n",
    "    pr = pred.apply(lambda l: 1 if l>p else 0)\n",
    "    fScore = f1_score(Y,pr)\n",
    "    if fScore>bestF:\n",
    "        bestF= fScore\n",
    "        bestP= p\n",
    "    \n",
    "    "
   ]
  },
  {
   "cell_type": "code",
   "execution_count": 276,
   "metadata": {
    "collapsed": false
   },
   "outputs": [],
   "source": [
    "pr = pred.apply(lambda l: 1 if l>bestP else 0)"
   ]
  },
  {
   "cell_type": "code",
   "execution_count": 279,
   "metadata": {
    "collapsed": false
   },
   "outputs": [
    {
     "name": "stdout",
     "output_type": "stream",
     "text": [
      "             precision    recall  f1-score   support\n",
      "\n",
      "          0       0.96      0.91      0.93      8012\n",
      "          1       0.75      0.87      0.81      2487\n",
      "\n",
      "avg / total       0.91      0.90      0.90     10499\n",
      "\n"
     ]
    }
   ],
   "source": [
    "print(classification_report(Y,pr))"
   ]
  },
  {
   "cell_type": "code",
   "execution_count": 280,
   "metadata": {
    "collapsed": false
   },
   "outputs": [
    {
     "name": "stdout",
     "output_type": "stream",
     "text": [
      "             precision    recall  f1-score   support\n",
      "\n",
      "        0.0       0.94      0.89      0.92      3416\n",
      "        1.0       0.71      0.83      0.77      1084\n",
      "\n",
      "avg / total       0.89      0.88      0.88      4500\n",
      "\n"
     ]
    }
   ],
   "source": [
    "#Pretty good for an initial model, Let's do it for the test Data\n",
    "pred = model.predict(X1)\n",
    "pr = pred.apply(lambda l: 1 if l>bestP else 0)\n",
    "print(classification_report(Y1,pr))"
   ]
  },
  {
   "cell_type": "code",
   "execution_count": 287,
   "metadata": {
    "collapsed": false
   },
   "outputs": [],
   "source": [
    "#Let's check for mulicollinearity which is 1 assumption of logistic regression . i.e.  regressors should be independent\n",
    "vif= pd.DataFrame()\n",
    "vif[\"VIF_Factors\"] = [variance_inflation_factor(X.values,i) for i in range(X.shape[1])]\n",
    "vif[\"features\"]= X.columns"
   ]
  },
  {
   "cell_type": "code",
   "execution_count": 305,
   "metadata": {
    "collapsed": false
   },
   "outputs": [
    {
     "data": {
      "text/html": [
       "<div>\n",
       "<table border=\"1\" class=\"dataframe\">\n",
       "  <thead>\n",
       "    <tr style=\"text-align: right;\">\n",
       "      <th></th>\n",
       "      <th>VIF_Factors</th>\n",
       "      <th>features</th>\n",
       "    </tr>\n",
       "  </thead>\n",
       "  <tbody>\n",
       "    <tr>\n",
       "      <th>0</th>\n",
       "      <td>37.319705</td>\n",
       "      <td>Intercept</td>\n",
       "    </tr>\n",
       "    <tr>\n",
       "      <th>1</th>\n",
       "      <td>2.575941</td>\n",
       "      <td>C(number_project)[T.3]</td>\n",
       "    </tr>\n",
       "    <tr>\n",
       "      <th>2</th>\n",
       "      <td>2.727112</td>\n",
       "      <td>C(number_project)[T.4]</td>\n",
       "    </tr>\n",
       "    <tr>\n",
       "      <th>3</th>\n",
       "      <td>2.440519</td>\n",
       "      <td>C(number_project)[T.5]</td>\n",
       "    </tr>\n",
       "    <tr>\n",
       "      <th>4</th>\n",
       "      <td>1.957522</td>\n",
       "      <td>C(number_project)[T.6]</td>\n",
       "    </tr>\n",
       "    <tr>\n",
       "      <th>5</th>\n",
       "      <td>1.372943</td>\n",
       "      <td>C(number_project)[T.7]</td>\n",
       "    </tr>\n",
       "    <tr>\n",
       "      <th>6</th>\n",
       "      <td>1.790217</td>\n",
       "      <td>C(time_spend_company)[T.3]</td>\n",
       "    </tr>\n",
       "    <tr>\n",
       "      <th>7</th>\n",
       "      <td>1.767936</td>\n",
       "      <td>C(time_spend_company)[T.4]</td>\n",
       "    </tr>\n",
       "    <tr>\n",
       "      <th>8</th>\n",
       "      <td>1.430580</td>\n",
       "      <td>C(time_spend_company)[T.5]</td>\n",
       "    </tr>\n",
       "    <tr>\n",
       "      <th>9</th>\n",
       "      <td>1.186473</td>\n",
       "      <td>C(time_spend_company)[T.6]</td>\n",
       "    </tr>\n",
       "    <tr>\n",
       "      <th>10</th>\n",
       "      <td>1.073318</td>\n",
       "      <td>C(time_spend_company)[T.7]</td>\n",
       "    </tr>\n",
       "    <tr>\n",
       "      <th>11</th>\n",
       "      <td>1.047917</td>\n",
       "      <td>C(time_spend_company)[T.8]</td>\n",
       "    </tr>\n",
       "    <tr>\n",
       "      <th>12</th>\n",
       "      <td>1.090180</td>\n",
       "      <td>C(time_spend_company)[T.10]</td>\n",
       "    </tr>\n",
       "    <tr>\n",
       "      <th>13</th>\n",
       "      <td>3.784646</td>\n",
       "      <td>C(salary)[T.low]</td>\n",
       "    </tr>\n",
       "    <tr>\n",
       "      <th>14</th>\n",
       "      <td>3.725312</td>\n",
       "      <td>C(salary)[T.medium]</td>\n",
       "    </tr>\n",
       "    <tr>\n",
       "      <th>15</th>\n",
       "      <td>1.564043</td>\n",
       "      <td>satisfaction_level</td>\n",
       "    </tr>\n",
       "    <tr>\n",
       "      <th>16</th>\n",
       "      <td>1.306548</td>\n",
       "      <td>last_evaluation</td>\n",
       "    </tr>\n",
       "    <tr>\n",
       "      <th>17</th>\n",
       "      <td>1.334108</td>\n",
       "      <td>average_montly_hours</td>\n",
       "    </tr>\n",
       "    <tr>\n",
       "      <th>18</th>\n",
       "      <td>1.015042</td>\n",
       "      <td>Work_Accident_1</td>\n",
       "    </tr>\n",
       "    <tr>\n",
       "      <th>19</th>\n",
       "      <td>1.513725</td>\n",
       "      <td>DepartMent_RandD</td>\n",
       "    </tr>\n",
       "    <tr>\n",
       "      <th>20</th>\n",
       "      <td>1.529690</td>\n",
       "      <td>DepartMent_accounting</td>\n",
       "    </tr>\n",
       "    <tr>\n",
       "      <th>21</th>\n",
       "      <td>1.503390</td>\n",
       "      <td>DepartMent_hr</td>\n",
       "    </tr>\n",
       "    <tr>\n",
       "      <th>22</th>\n",
       "      <td>1.519169</td>\n",
       "      <td>DepartMent_management</td>\n",
       "    </tr>\n",
       "    <tr>\n",
       "      <th>23</th>\n",
       "      <td>1.584857</td>\n",
       "      <td>DepartMent_marketing</td>\n",
       "    </tr>\n",
       "    <tr>\n",
       "      <th>24</th>\n",
       "      <td>1.622785</td>\n",
       "      <td>DepartMent_product_mng</td>\n",
       "    </tr>\n",
       "    <tr>\n",
       "      <th>25</th>\n",
       "      <td>3.093303</td>\n",
       "      <td>DepartMent_sales</td>\n",
       "    </tr>\n",
       "    <tr>\n",
       "      <th>26</th>\n",
       "      <td>2.342441</td>\n",
       "      <td>DepartMent_support</td>\n",
       "    </tr>\n",
       "    <tr>\n",
       "      <th>27</th>\n",
       "      <td>2.558174</td>\n",
       "      <td>DepartMent_technical</td>\n",
       "    </tr>\n",
       "    <tr>\n",
       "      <th>28</th>\n",
       "      <td>1.045139</td>\n",
       "      <td>HadPromotion_1</td>\n",
       "    </tr>\n",
       "  </tbody>\n",
       "</table>\n",
       "</div>"
      ],
      "text/plain": [
       "    VIF_Factors                     features\n",
       "0     37.319705                    Intercept\n",
       "1      2.575941       C(number_project)[T.3]\n",
       "2      2.727112       C(number_project)[T.4]\n",
       "3      2.440519       C(number_project)[T.5]\n",
       "4      1.957522       C(number_project)[T.6]\n",
       "5      1.372943       C(number_project)[T.7]\n",
       "6      1.790217   C(time_spend_company)[T.3]\n",
       "7      1.767936   C(time_spend_company)[T.4]\n",
       "8      1.430580   C(time_spend_company)[T.5]\n",
       "9      1.186473   C(time_spend_company)[T.6]\n",
       "10     1.073318   C(time_spend_company)[T.7]\n",
       "11     1.047917   C(time_spend_company)[T.8]\n",
       "12     1.090180  C(time_spend_company)[T.10]\n",
       "13     3.784646             C(salary)[T.low]\n",
       "14     3.725312          C(salary)[T.medium]\n",
       "15     1.564043           satisfaction_level\n",
       "16     1.306548              last_evaluation\n",
       "17     1.334108         average_montly_hours\n",
       "18     1.015042              Work_Accident_1\n",
       "19     1.513725             DepartMent_RandD\n",
       "20     1.529690        DepartMent_accounting\n",
       "21     1.503390                DepartMent_hr\n",
       "22     1.519169        DepartMent_management\n",
       "23     1.584857         DepartMent_marketing\n",
       "24     1.622785       DepartMent_product_mng\n",
       "25     3.093303             DepartMent_sales\n",
       "26     2.342441           DepartMent_support\n",
       "27     2.558174         DepartMent_technical\n",
       "28     1.045139               HadPromotion_1"
      ]
     },
     "execution_count": 305,
     "metadata": {},
     "output_type": "execute_result"
    }
   ],
   "source": [
    "vif"
   ]
  },
  {
   "cell_type": "code",
   "execution_count": 306,
   "metadata": {
    "collapsed": true
   },
   "outputs": [],
   "source": [
    "vif=None"
   ]
  },
  {
   "cell_type": "code",
   "execution_count": 300,
   "metadata": {
    "collapsed": false
   },
   "outputs": [
    {
     "data": {
      "text/plain": [
       "<matplotlib.axes._subplots.AxesSubplot at 0x1600d618748>"
      ]
     },
     "execution_count": 300,
     "metadata": {},
     "output_type": "execute_result"
    },
    {
     "data": {
      "image/png": "[encoded data removed]",
      "text/plain": [
       "<matplotlib.figure.Figure at 0x1601076b390>"
      ]
     },
     "metadata": {},
     "output_type": "display_data"
    }
   ],
   "source": [
    "#looks like all the regressors are independent except intercept term, we can try mean centering(substract each vars mean from it)\n",
    "# but our variables are already scaled, so we will leave it for now\n",
    "\n",
    "# let's try interactions\n",
    "# For this we will need to perform some bivariate EDA\n",
    "# interaction among variables using Corrplot\n",
    "\n",
    "corMat = finalData.corr()\n",
    "plt.figure(figsize=(8,8))\n",
    "sns.heatmap(corMat,square=True,cbar=True)\n"
   ]
  },
  {
   "cell_type": "code",
   "execution_count": 291,
   "metadata": {
    "collapsed": true
   },
   "outputs": [],
   "source": [
    "#let's try a numerical appraoch\n",
    "cols= corMat.nlargest(10,\"Left\")[\"Left\"].index"
   ]
  },
  {
   "cell_type": "code",
   "execution_count": 299,
   "metadata": {
    "collapsed": false
   },
   "outputs": [
    {
     "data": {
      "image/png": "[encoded data removed]",
      "text/plain": [
       "<matplotlib.figure.Figure at 0x1601076b358>"
      ]
     },
     "metadata": {},
     "output_type": "display_data"
    }
   ],
   "source": [
    "plt.figure(figsize=(8,8))\n",
    "sns.heatmap(finalData[cols].corr(),annot=True,square=True,fmt=\".2\")\n",
    "plt.show()"
   ]
  },
  {
   "cell_type": "code",
   "execution_count": 317,
   "metadata": {
    "collapsed": false
   },
   "outputs": [
    {
     "name": "stdout",
     "output_type": "stream",
     "text": [
      "Warning: Maximum number of iterations has been exceeded.\n",
      "         Current function value: 0.200937\n",
      "         Iterations: 35\n",
      "                           Logit Regression Results                           \n",
      "==============================================================================\n",
      "Dep. Variable:                   Left   No. Observations:                10499\n",
      "Model:                          Logit   Df Residuals:                    10466\n",
      "Method:                           MLE   Df Model:                           32\n",
      "Date:                Sat, 12 May 2018   Pseudo R-squ.:                  0.6330\n",
      "Time:                        04:07:32   Log-Likelihood:                -2109.6\n",
      "converged:                      False   LL-Null:                       -5747.7\n",
      "                                        LLR p-value:                     0.000\n",
      "===========================================================================================================================\n",
      "                                                              coef    std err          z      P>|z|      [0.025      0.975]\n",
      "---------------------------------------------------------------------------------------------------------------------------\n",
      "Intercept                                                  -4.3148      0.328    -13.139      0.000      -4.958      -3.671\n",
      "C(number_project)[T.3]                                     -5.1466      0.208    -24.747      0.000      -5.554      -4.739\n",
      "C(number_project)[T.4]                                     -3.6454      0.144    -25.324      0.000      -3.928      -3.363\n",
      "C(number_project)[T.5]                                     -2.9940      0.145    -20.658      0.000      -3.278      -2.710\n",
      "C(number_project)[T.6]                                     -2.1233      0.176    -12.050      0.000      -2.469      -1.778\n",
      "C(number_project)[T.7]                                     23.6396   2.24e+04      0.001      0.999   -4.39e+04    4.39e+04\n",
      "C(time_spend_company)[T.3]                                  2.5083      0.222     11.292      0.000       2.073       2.944\n",
      "C(time_spend_company)[T.4]                                  2.9321      0.240     12.195      0.000       2.461       3.403\n",
      "C(time_spend_company)[T.5]                                  4.6645      0.237     19.706      0.000       4.201       5.128\n",
      "C(time_spend_company)[T.6]                                  3.5970      0.254     14.148      0.000       3.099       4.095\n",
      "C(time_spend_company)[T.7]                                -14.7280   1317.206     -0.011      0.991   -2596.404    2566.948\n",
      "C(time_spend_company)[T.8]                                -19.0281   7102.921     -0.003      0.998   -1.39e+04    1.39e+04\n",
      "C(time_spend_company)[T.10]                               -19.5839   2.07e+04     -0.001      0.999   -4.06e+04    4.06e+04\n",
      "C(salary)[T.low]                                            1.9471      0.210      9.262      0.000       1.535       2.359\n",
      "C(salary)[T.medium]                                         1.4797      0.212      6.966      0.000       1.063       1.896\n",
      "satisfaction_level                                         -0.4740      0.060     -7.904      0.000      -0.592      -0.356\n",
      "average_montly_hours                                        0.4774      0.064      7.463      0.000       0.352       0.603\n",
      "satisfaction_level:average_montly_hours                    -0.1252      0.056     -2.250      0.024      -0.234      -0.016\n",
      "last_evaluation                                             0.5229      0.061      8.541      0.000       0.403       0.643\n",
      "satisfaction_level:last_evaluation                          0.6306      0.055     11.456      0.000       0.523       0.738\n",
      "average_montly_hours:last_evaluation                        1.1172      0.056     20.097      0.000       1.008       1.226\n",
      "satisfaction_level:average_montly_hours:last_evaluation    -0.2594      0.054     -4.805      0.000      -0.365      -0.154\n",
      "Work_Accident_1                                            -1.4262      0.142    -10.030      0.000      -1.705      -1.148\n",
      "DepartMent_RandD                                           -0.4117      0.230     -1.792      0.073      -0.862       0.039\n",
      "DepartMent_accounting                                       0.3220      0.220      1.465      0.143      -0.109       0.753\n",
      "DepartMent_hr                                               0.6731      0.226      2.978      0.003       0.230       1.116\n",
      "DepartMent_management                                      -0.0096      0.268     -0.036      0.971      -0.535       0.516\n",
      "DepartMent_marketing                                        0.2735      0.215      1.270      0.204      -0.149       0.696\n",
      "DepartMent_product_mng                                      0.0127      0.208      0.061      0.952      -0.396       0.421\n",
      "DepartMent_sales                                            0.1524      0.159      0.960      0.337      -0.159       0.464\n",
      "DepartMent_support                                          0.1993      0.172      1.157      0.247      -0.138       0.537\n",
      "DepartMent_technical                                        0.2682      0.167      1.604      0.109      -0.060       0.596\n",
      "HadPromotion_1                                             -1.5382      0.423     -3.640      0.000      -2.366      -0.710\n",
      "===========================================================================================================================\n"
     ]
    },
    {
     "name": "stderr",
     "output_type": "stream",
     "text": [
      "C:\\Users\\anurag dubey\\Anaconda3\\lib\\site-packages\\statsmodels-0.8.0-py3.5-win-amd64.egg\\statsmodels\\base\\model.py:508: ConvergenceWarning: Maximum Likelihood optimization failed to converge. Check mle_retvals\n",
      "  \"Check mle_retvals\", ConvergenceWarning)\n"
     ]
    }
   ],
   "source": [
    "# we can see three vars AverageMonthlyHours, number_Projects and last_evaluation has correlation (not too high), let's try putting \n",
    "# an interaction\n",
    "f =  \"Left~satisfaction_level*average_montly_hours*last_evaluation+C(number_project)+C(time_spend_company)+C(salary)+Work_Accident_1+DepartMent_RandD+DepartMent_accounting+DepartMent_hr+DepartMent_management+DepartMent_marketing+DepartMent_product_mng+DepartMent_sales+DepartMent_support+DepartMent_technical+HadPromotion_1\"\n",
    "import patsy\n",
    "Y,X = patsy.dmatrices(f, train, return_type='dataframe')\n",
    "Y1,X1 = patsy.dmatrices(f, test, return_type='dataframe')\n",
    "model = smf.Logit(Y,X).fit()\n",
    "print(model.summary())"
   ]
  },
  {
   "cell_type": "code",
   "execution_count": 318,
   "metadata": {
    "collapsed": false
   },
   "outputs": [],
   "source": [
    "# we see .8% increase in pseudo R-Squared in this model\n",
    "# Let's check the multicollinearity problem\n",
    "vif_new=pd.DataFrame()\n",
    "vif_new[\"VIF_Factors\"]= [variance_inflation_factor(X.values,i) for i in range(X.shape[1])]\n",
    "vif_new[\"Features\"]= X.columns"
   ]
  },
  {
   "cell_type": "code",
   "execution_count": 319,
   "metadata": {
    "collapsed": false
   },
   "outputs": [
    {
     "data": {
      "text/html": [
       "<div>\n",
       "<table border=\"1\" class=\"dataframe\">\n",
       "  <thead>\n",
       "    <tr style=\"text-align: right;\">\n",
       "      <th></th>\n",
       "      <th>VIF_Factors</th>\n",
       "      <th>Features</th>\n",
       "    </tr>\n",
       "  </thead>\n",
       "  <tbody>\n",
       "    <tr>\n",
       "      <th>0</th>\n",
       "      <td>39.249192</td>\n",
       "      <td>Intercept</td>\n",
       "    </tr>\n",
       "    <tr>\n",
       "      <th>1</th>\n",
       "      <td>2.954986</td>\n",
       "      <td>C(number_project)[T.3]</td>\n",
       "    </tr>\n",
       "    <tr>\n",
       "      <th>2</th>\n",
       "      <td>3.141890</td>\n",
       "      <td>C(number_project)[T.4]</td>\n",
       "    </tr>\n",
       "    <tr>\n",
       "      <th>3</th>\n",
       "      <td>2.711973</td>\n",
       "      <td>C(number_project)[T.5]</td>\n",
       "    </tr>\n",
       "    <tr>\n",
       "      <th>4</th>\n",
       "      <td>2.382899</td>\n",
       "      <td>C(number_project)[T.6]</td>\n",
       "    </tr>\n",
       "    <tr>\n",
       "      <th>5</th>\n",
       "      <td>1.635473</td>\n",
       "      <td>C(number_project)[T.7]</td>\n",
       "    </tr>\n",
       "    <tr>\n",
       "      <th>6</th>\n",
       "      <td>1.800647</td>\n",
       "      <td>C(time_spend_company)[T.3]</td>\n",
       "    </tr>\n",
       "    <tr>\n",
       "      <th>7</th>\n",
       "      <td>1.796551</td>\n",
       "      <td>C(time_spend_company)[T.4]</td>\n",
       "    </tr>\n",
       "    <tr>\n",
       "      <th>8</th>\n",
       "      <td>1.501455</td>\n",
       "      <td>C(time_spend_company)[T.5]</td>\n",
       "    </tr>\n",
       "    <tr>\n",
       "      <th>9</th>\n",
       "      <td>1.207495</td>\n",
       "      <td>C(time_spend_company)[T.6]</td>\n",
       "    </tr>\n",
       "    <tr>\n",
       "      <th>10</th>\n",
       "      <td>1.073552</td>\n",
       "      <td>C(time_spend_company)[T.7]</td>\n",
       "    </tr>\n",
       "    <tr>\n",
       "      <th>11</th>\n",
       "      <td>1.048526</td>\n",
       "      <td>C(time_spend_company)[T.8]</td>\n",
       "    </tr>\n",
       "    <tr>\n",
       "      <th>12</th>\n",
       "      <td>1.090647</td>\n",
       "      <td>C(time_spend_company)[T.10]</td>\n",
       "    </tr>\n",
       "    <tr>\n",
       "      <th>13</th>\n",
       "      <td>3.787073</td>\n",
       "      <td>C(salary)[T.low]</td>\n",
       "    </tr>\n",
       "    <tr>\n",
       "      <th>14</th>\n",
       "      <td>3.726901</td>\n",
       "      <td>C(salary)[T.medium]</td>\n",
       "    </tr>\n",
       "    <tr>\n",
       "      <th>15</th>\n",
       "      <td>1.678919</td>\n",
       "      <td>satisfaction_level</td>\n",
       "    </tr>\n",
       "    <tr>\n",
       "      <th>16</th>\n",
       "      <td>1.355007</td>\n",
       "      <td>average_montly_hours</td>\n",
       "    </tr>\n",
       "    <tr>\n",
       "      <th>17</th>\n",
       "      <td>1.807082</td>\n",
       "      <td>satisfaction_level:average_montly_hours</td>\n",
       "    </tr>\n",
       "    <tr>\n",
       "      <th>18</th>\n",
       "      <td>1.337511</td>\n",
       "      <td>last_evaluation</td>\n",
       "    </tr>\n",
       "    <tr>\n",
       "      <th>19</th>\n",
       "      <td>1.468539</td>\n",
       "      <td>satisfaction_level:last_evaluation</td>\n",
       "    </tr>\n",
       "    <tr>\n",
       "      <th>20</th>\n",
       "      <td>1.224735</td>\n",
       "      <td>average_montly_hours:last_evaluation</td>\n",
       "    </tr>\n",
       "    <tr>\n",
       "      <th>21</th>\n",
       "      <td>1.669538</td>\n",
       "      <td>satisfaction_level:average_montly_hours:last_e...</td>\n",
       "    </tr>\n",
       "    <tr>\n",
       "      <th>22</th>\n",
       "      <td>1.017570</td>\n",
       "      <td>Work_Accident_1</td>\n",
       "    </tr>\n",
       "    <tr>\n",
       "      <th>23</th>\n",
       "      <td>1.514586</td>\n",
       "      <td>DepartMent_RandD</td>\n",
       "    </tr>\n",
       "    <tr>\n",
       "      <th>24</th>\n",
       "      <td>1.531532</td>\n",
       "      <td>DepartMent_accounting</td>\n",
       "    </tr>\n",
       "    <tr>\n",
       "      <th>25</th>\n",
       "      <td>1.504534</td>\n",
       "      <td>DepartMent_hr</td>\n",
       "    </tr>\n",
       "    <tr>\n",
       "      <th>26</th>\n",
       "      <td>1.520360</td>\n",
       "      <td>DepartMent_management</td>\n",
       "    </tr>\n",
       "    <tr>\n",
       "      <th>27</th>\n",
       "      <td>1.586300</td>\n",
       "      <td>DepartMent_marketing</td>\n",
       "    </tr>\n",
       "    <tr>\n",
       "      <th>28</th>\n",
       "      <td>1.625383</td>\n",
       "      <td>DepartMent_product_mng</td>\n",
       "    </tr>\n",
       "    <tr>\n",
       "      <th>29</th>\n",
       "      <td>3.097384</td>\n",
       "      <td>DepartMent_sales</td>\n",
       "    </tr>\n",
       "    <tr>\n",
       "      <th>30</th>\n",
       "      <td>2.344535</td>\n",
       "      <td>DepartMent_support</td>\n",
       "    </tr>\n",
       "    <tr>\n",
       "      <th>31</th>\n",
       "      <td>2.561270</td>\n",
       "      <td>DepartMent_technical</td>\n",
       "    </tr>\n",
       "    <tr>\n",
       "      <th>32</th>\n",
       "      <td>1.046056</td>\n",
       "      <td>HadPromotion_1</td>\n",
       "    </tr>\n",
       "  </tbody>\n",
       "</table>\n",
       "</div>"
      ],
      "text/plain": [
       "    VIF_Factors                                           Features\n",
       "0     39.249192                                          Intercept\n",
       "1      2.954986                             C(number_project)[T.3]\n",
       "2      3.141890                             C(number_project)[T.4]\n",
       "3      2.711973                             C(number_project)[T.5]\n",
       "4      2.382899                             C(number_project)[T.6]\n",
       "5      1.635473                             C(number_project)[T.7]\n",
       "6      1.800647                         C(time_spend_company)[T.3]\n",
       "7      1.796551                         C(time_spend_company)[T.4]\n",
       "8      1.501455                         C(time_spend_company)[T.5]\n",
       "9      1.207495                         C(time_spend_company)[T.6]\n",
       "10     1.073552                         C(time_spend_company)[T.7]\n",
       "11     1.048526                         C(time_spend_company)[T.8]\n",
       "12     1.090647                        C(time_spend_company)[T.10]\n",
       "13     3.787073                                   C(salary)[T.low]\n",
       "14     3.726901                                C(salary)[T.medium]\n",
       "15     1.678919                                 satisfaction_level\n",
       "16     1.355007                               average_montly_hours\n",
       "17     1.807082            satisfaction_level:average_montly_hours\n",
       "18     1.337511                                    last_evaluation\n",
       "19     1.468539                 satisfaction_level:last_evaluation\n",
       "20     1.224735               average_montly_hours:last_evaluation\n",
       "21     1.669538  satisfaction_level:average_montly_hours:last_e...\n",
       "22     1.017570                                    Work_Accident_1\n",
       "23     1.514586                                   DepartMent_RandD\n",
       "24     1.531532                              DepartMent_accounting\n",
       "25     1.504534                                      DepartMent_hr\n",
       "26     1.520360                              DepartMent_management\n",
       "27     1.586300                               DepartMent_marketing\n",
       "28     1.625383                             DepartMent_product_mng\n",
       "29     3.097384                                   DepartMent_sales\n",
       "30     2.344535                                 DepartMent_support\n",
       "31     2.561270                               DepartMent_technical\n",
       "32     1.046056                                     HadPromotion_1"
      ]
     },
     "execution_count": 319,
     "metadata": {},
     "output_type": "execute_result"
    }
   ],
   "source": [
    "vif_new"
   ]
  },
  {
   "cell_type": "code",
   "execution_count": 320,
   "metadata": {
    "collapsed": false
   },
   "outputs": [
    {
     "name": "stdout",
     "output_type": "stream",
     "text": [
      "Area under the curve is 0.62\n"
     ]
    }
   ],
   "source": [
    "#no  troubleSome entry found. all interactions are significant\n",
    "#Let's try this models performance\n",
    "pred =model.predict(X)\n",
    "from sklearn.metrics import classification_report,confusion_matrix,f1_score,precision_recall_curve,auc\n",
    "fpr,tpr,thresholds= precision_recall_curve(Y,pred)\n",
    "roc_auc = auc(fpr,tpr,reorder=True)\n",
    "print (\"Area under the curve is %.02f\"% roc_auc)"
   ]
  },
  {
   "cell_type": "code",
   "execution_count": 321,
   "metadata": {
    "collapsed": false
   },
   "outputs": [
    {
     "name": "stdout",
     "output_type": "stream",
     "text": [
      "             precision    recall  f1-score   support\n",
      "\n",
      "        0.0       0.97      0.93      0.95      8012\n",
      "        1.0       0.80      0.91      0.86      2487\n",
      "\n",
      "avg / total       0.93      0.93      0.93     10499\n",
      "\n"
     ]
    }
   ],
   "source": [
    "#AUC has increased to 62% now !\n",
    "pr = pred.apply(lambda l: 1 if l>bestP else 0)\n",
    "print(classification_report(Y,pr))\n",
    "# even the f1 score is increased"
   ]
  },
  {
   "cell_type": "code",
   "execution_count": 322,
   "metadata": {
    "collapsed": false
   },
   "outputs": [
    {
     "name": "stdout",
     "output_type": "stream",
     "text": [
      "[[7456  556]\n",
      " [ 213 2274]]\n"
     ]
    }
   ],
   "source": [
    "print(confusion_matrix(Y,pr))"
   ]
  },
  {
   "cell_type": "code",
   "execution_count": 323,
   "metadata": {
    "collapsed": false
   },
   "outputs": [
    {
     "name": "stdout",
     "output_type": "stream",
     "text": [
      "             precision    recall  f1-score   support\n",
      "\n",
      "        0.0       0.96      0.92      0.94      3416\n",
      "        1.0       0.77      0.88      0.82      1084\n",
      "\n",
      "avg / total       0.91      0.91      0.91      4500\n",
      "\n"
     ]
    }
   ],
   "source": [
    "#let's measure the preformance on test Data\n",
    "pred = model.predict(X1)\n",
    "pr = pred.apply(lambda l: 1 if l>bestP else 0)\n",
    "print(classification_report(Y1,pr))\n"
   ]
  },
  {
   "cell_type": "code",
   "execution_count": 324,
   "metadata": {
    "collapsed": false
   },
   "outputs": [
    {
     "name": "stdout",
     "output_type": "stream",
     "text": [
      "[[3129  287]\n",
      " [ 130  954]]\n"
     ]
    }
   ],
   "source": [
    "print(confusion_matrix(Y1,pr))"
   ]
  },
  {
   "cell_type": "code",
   "execution_count": null,
   "metadata": {
    "collapsed": true
   },
   "outputs": [],
   "source": [
    "# The overall f1 score on test data has increased by .3"
   ]
  },
  {
   "cell_type": "code",
   "execution_count": null,
   "metadata": {
    "collapsed": true
   },
   "outputs": [],
   "source": [
    "#We still have not considered the relationship among categorical variables"
   ]
  },
  {
   "cell_type": "code",
   "execution_count": null,
   "metadata": {
    "collapsed": true
   },
   "outputs": [],
   "source": [
    "# pred =model.predict(X)\n",
    "# from sklearn.metrics import classification_report,confusion_matrix,f1_score,precision_recall_curve,auc\n",
    "# fpr,tpr,thresholds= precision_recall_curve(Y,pred)\n",
    "# roc_auc = auc(fpr,tpr,reorder=True)\n",
    "# print (\"Area under the curve is %.02f\"% roc_auc)\n",
    "# pr = pred.apply(lambda l: 1 if l>bestP else 0)\n",
    "# #Pretty good for an initial model, Let's do it for the test Data\n",
    "# pred = model.predict(X1)\n",
    "# pr = pred.apply(lambda l: 1 if l>bestP else 0)\n",
    "# print(classification_report(Y1,pr))"
   ]
  },
  {
   "cell_type": "code",
   "execution_count": 118,
   "metadata": {
    "collapsed": false
   },
   "outputs": [
    {
     "data": {
      "text/plain": [
       "array([0, 1], dtype=int64)"
      ]
     },
     "execution_count": 118,
     "metadata": {},
     "output_type": "execute_result"
    }
   ],
   "source": [
    "# from sklearn.preprocessing import StandardScaler\n",
    "# from sklearn.preprocessing import OneHotEncoder,LabelEncoder\n",
    "# standardSc =StandardScaler()\n",
    "# X= cnDf.values\n",
    "# X=standardSc.fit_transform(X)\n",
    "    \n",
    "# labelList= [\"number_project\",\"time_spend_company\",\"salary\"]\n",
    "# oneHotList =[\"Work_accident\",\"promotion_last_5years\",\"sales\"]\n",
    "# labelDF=data.drop({column for column in data.keys() if column not in labelList},axis=1).copy()\n",
    "# oneHotDF= data.drop({column for column in data.keys() if column not in oneHotList},axis=1).copy()\n",
    "# OneHotX = oneHotDF.values\n",
    "# OneHotX= OneHotX.astype(str)\n",
    "# labelX = labelDF.values\n",
    "# labelX= labelX.astype(str)\n",
    "# labelEnCd = LabelEncoder()\n",
    "# onehotEncd = OneHotEncoder(sparse=False)\n",
    "# features =[]\n",
    "# for i in range(0,oneHotDF.shape[1]-1):\n",
    "#     feature= LabelEncoder().fit_transform(OneHotX[:,i])\n",
    "#     feature = feature.reshape(oneHotDF.shape[0],1)\n",
    "#     cols = onehotEncd.fit_transform(feature)\n",
    "#     features.append(cols)\n",
    "# OneHotX = np.column_stack(features)\n",
    "\n",
    "    \n",
    "    \n",
    "\n",
    "    \n",
    "# #Label Encode the Output as well\n",
    "# Y = LabelEncoder().fit_transform(Y)\n",
    "# X_Encoded = np.concatenate([X,labelX,OneHotX],axis=1)\n",
    "# np.unique(Y)"
   ]
  },
  {
   "cell_type": "code",
   "execution_count": null,
   "metadata": {
    "collapsed": true
   },
   "outputs": [],
   "source": [
    "#We can try with a few more interactions but that may lead to overfitting. One point to note is that we have achived very good \n",
    "# results with logistic regression here. Next step could be running some powerfull non linear/boosting method to get more \n",
    "# accurate results.\n",
    "\n",
    "# one important point to note is that we should not use Accuracy as measure in this kind of imbalanced scenario as the majority\n",
    "# class will dominate the results"
   ]
  }
 ],
 "metadata": {
  "anaconda-cloud": {},
  "kernelspec": {
   "display_name": "Python [conda root]",
   "language": "python",
   "name": "conda-root-py"
  },
  "language_info": {
   "codemirror_mode": {
    "name": "ipython",
    "version": 3
   },
   "file_extension": ".py",
   "mimetype": "text/x-python",
   "name": "python",
   "nbconvert_exporter": "python",
   "pygments_lexer": "ipython3",
   "version": "3.5.2"
  }
 },
 "nbformat": 4,
 "nbformat_minor": 1
}
